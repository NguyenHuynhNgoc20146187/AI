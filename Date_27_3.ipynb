{
  "nbformat": 4,
  "nbformat_minor": 0,
  "metadata": {
    "colab": {
      "provenance": [],
      "authorship_tag": "ABX9TyNNZfPN/6U9P0S2JLY7V+3G",
      "include_colab_link": true
    },
    "kernelspec": {
      "name": "python3",
      "display_name": "Python 3"
    },
    "language_info": {
      "name": "python"
    }
  },
  "cells": [
    {
      "cell_type": "markdown",
      "metadata": {
        "id": "view-in-github",
        "colab_type": "text"
      },
      "source": [
        "<a href=\"https://colab.research.google.com/github/NguyenHuynhNgoc20146187/AI/blob/main/Date_27_3.ipynb\" target=\"_parent\"><img src=\"https://colab.research.google.com/assets/colab-badge.svg\" alt=\"Open In Colab\"/></a>"
      ]
    },
    {
      "cell_type": "code",
      "execution_count": 23,
      "metadata": {
        "id": "C32255xxtMXx"
      },
      "outputs": [],
      "source": [
        "from keras.datasets import mnist\n",
        "import  numpy as np\n",
        "import pandas as pd\n",
        "import seaborn as sas\n",
        "\n",
        "(train_images, train_labels),(test_images, test_labels) = mnist.load_data()"
      ]
    },
    {
      "cell_type": "code",
      "source": [
        "import matplotlib.pyplot as plt\n",
        "hinh = train_images[100]\n",
        "plt.imshow(hinh, cmap = plt.cm.binary)\n",
        "plt.show\n",
        "print('Số này là:', train_labels[100])"
      ],
      "metadata": {
        "colab": {
          "base_uri": "https://localhost:8080/",
          "height": 282
        },
        "id": "BetV0nT40n0o",
        "outputId": "ce1acbbf-c65b-4f56-9488-c23a04a6a001"
      },
      "execution_count": 24,
      "outputs": [
        {
          "output_type": "stream",
          "name": "stdout",
          "text": [
            "Số này là: 5\n"
          ]
        },
        {
          "output_type": "display_data",
          "data": {
            "text/plain": [
              "<Figure size 432x288 with 1 Axes>"
            ],
            "image/png": "[encoded data removed]"
          },
          "metadata": {
            "needs_background": "light"
          }
        }
      ]
    },
    {
      "cell_type": "code",
      "source": [
        "import matplotlib.pyplot as plt\n",
        "for i in range(10):\n",
        "  plt.subplot(3,5, i+1)\n",
        "  plt.tight_layout()\n",
        "  plt.imshow(train_images[i], cmap = 'gray', interpolation = 'none')\n",
        "  plt.title('Số:{}'.format(train_labels[i]))\n",
        "\n",
        "  plt.xticks([])\n",
        "  plt.yticks([])"
      ],
      "metadata": {
        "colab": {
          "base_uri": "https://localhost:8080/",
          "height": 196
        },
        "id": "rvf_8NGt1ZS0",
        "outputId": "8a63570e-2455-4e5f-e592-53abf87c3652"
      },
      "execution_count": 25,
      "outputs": [
        {
          "output_type": "display_data",
          "data": {
            "text/plain": [
              "<Figure size 432x288 with 10 Axes>"
            ],
            "image/png": "[encoded data removed]"
          },
          "metadata": {}
        }
      ]
    },
    {
      "cell_type": "code",
      "source": [
        "from keras.engine import input_layer\n",
        "#Tạo mô hình\n",
        "from keras.models import Sequential\n",
        "from keras.layers import Dense\n",
        "model = Sequential()\n",
        "model.add(Dense(512, input_shape = (28*28,), activation = 'relu'))\n",
        "model.add(Dense(10, activation = 'linear'))\n",
        "model.summary()"
      ],
      "metadata": {
        "colab": {
          "base_uri": "https://localhost:8080/"
        },
        "id": "_d1TvsZS3CSf",
        "outputId": "29e65ba7-9179-4ada-a161-0d97ea311915"
      },
      "execution_count": 26,
      "outputs": [
        {
          "output_type": "stream",
          "name": "stdout",
          "text": [
            "Model: \"sequential_8\"\n",
            "_________________________________________________________________\n",
            " Layer (type)                Output Shape              Param #   \n",
            "=================================================================\n",
            " dense_24 (Dense)            (None, 512)               401920    \n",
            "                                                                 \n",
            " dense_25 (Dense)            (None, 10)                5130      \n",
            "                                                                 \n",
            "=================================================================\n",
            "Total params: 407,050\n",
            "Trainable params: 407,050\n",
            "Non-trainable params: 0\n",
            "_________________________________________________________________\n"
          ]
        }
      ]
    },
    {
      "cell_type": "code",
      "source": [
        "train_images = train_images.reshape((60000,28*28))\n",
        "train_images = train_images.astype('float32')/255\n",
        "test_images = test_images.reshape((10000,28*28))\n",
        "test_images = test_images.astype('float32')/255"
      ],
      "metadata": {
        "id": "b8WJJ2BP5PSL"
      },
      "execution_count": 27,
      "outputs": []
    },
    {
      "cell_type": "code",
      "source": [
        "from keras.utils import to_categorical #Lệnh chuyển qua \n",
        "train_labels = to_categorical(train_labels, 10) #chuyển sang 10 kênh\n",
        "test_labels = to_categorical(test_labels, 10)"
      ],
      "metadata": {
        "id": "UvJFGZBjCNXN"
      },
      "execution_count": 28,
      "outputs": []
    },
    {
      "cell_type": "code",
      "source": [
        "model.compile(optimizer='rmsprop',loss='categorical_crossentropy',metrics=['accuracy'])\n",
        "model.fit(train_images,train_labels,epochs = 10, batch_size= 128) # Mỗi lần học chỉ 128 dữ liệu, không học hết 60000 dữ liệu , học tổng cộng 10 lầnlần\n",
        "test_loss, test_acc = model.evaluate(test_images,test_labels)\n",
        "print('test_accuracy:',test_acc)\n",
        "print('test_loss:',test_loss)"
      ],
      "metadata": {
        "colab": {
          "base_uri": "https://localhost:8080/"
        },
        "id": "q5T1dqyrBDFa",
        "outputId": "ad64a777-12de-411b-b759-dca26204b24c"
      },
      "execution_count": 29,
      "outputs": [
        {
          "output_type": "stream",
          "name": "stdout",
          "text": [
            "Epoch 1/10\n",
            "469/469 [==============================] - 5s 9ms/step - loss: 9.9721 - accuracy: 0.2621\n",
            "Epoch 2/10\n",
            "469/469 [==============================] - 4s 8ms/step - loss: 10.1463 - accuracy: 0.2769\n",
            "Epoch 3/10\n",
            "469/469 [==============================] - 4s 10ms/step - loss: 10.0604 - accuracy: 0.2777\n",
            "Epoch 4/10\n",
            "469/469 [==============================] - 4s 8ms/step - loss: 10.0604 - accuracy: 0.2777\n",
            "Epoch 5/10\n",
            "469/469 [==============================] - 4s 8ms/step - loss: 10.0604 - accuracy: 0.2777\n",
            "Epoch 6/10\n",
            "469/469 [==============================] - 6s 14ms/step - loss: 10.0604 - accuracy: 0.2777\n",
            "Epoch 7/10\n",
            "469/469 [==============================] - 5s 11ms/step - loss: 10.0604 - accuracy: 0.2777\n",
            "Epoch 8/10\n",
            "469/469 [==============================] - 5s 10ms/step - loss: 10.0604 - accuracy: 0.2777\n",
            "Epoch 9/10\n",
            "469/469 [==============================] - 4s 8ms/step - loss: 10.0604 - accuracy: 0.2777\n",
            "Epoch 10/10\n",
            "469/469 [==============================] - 4s 9ms/step - loss: 10.0604 - accuracy: 0.2777\n",
            "313/313 [==============================] - 1s 3ms/step - loss: 9.9483 - accuracy: 0.2841\n",
            "test_accuracy: 0.2840999960899353\n",
            "test_loss: 9.948328971862793\n"
          ]
        }
      ]
    },
    {
      "cell_type": "code",
      "source": [
        "model.save('hinh1')\n",
        "model11 =load_model('hinh1')\n"
      ],
      "metadata": {
        "id": "YjiTWw7xDZS-"
      },
      "execution_count": null,
      "outputs": []
    },
    {
      "cell_type": "code",
      "source": [],
      "metadata": {
        "id": "qHdKI2aODwDl"
      },
      "execution_count": null,
      "outputs": []
    }
  ]
}