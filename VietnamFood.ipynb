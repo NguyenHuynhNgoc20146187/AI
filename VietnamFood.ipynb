{
  "nbformat": 4,
  "nbformat_minor": 0,
  "metadata": {
    "colab": {
      "provenance": [],
      "mount_file_id": "13q1Y9iyZKTvFUznzANbkPvutYAQhGdQY",
      "authorship_tag": "ABX9TyMfcDwvK6Y6VDDeJlH5kCUP",
      "include_colab_link": true
    },
    "kernelspec": {
      "name": "python3",
      "display_name": "Python 3"
    },
    "language_info": {
      "name": "python"
    },
    "accelerator": "GPU",
    "gpuClass": "standard"
  },
  "cells": [
    {
      "cell_type": "markdown",
      "metadata": {
        "id": "view-in-github",
        "colab_type": "text"
      },
      "source": [
        "<a href=\"https://colab.research.google.com/github/NguyenHuynhNgoc20146187/AI/blob/main/VietnamFood.ipynb\" target=\"_parent\"><img src=\"https://colab.research.google.com/assets/colab-badge.svg\" alt=\"Open In Colab\"/></a>"
      ]
    },
    {
      "cell_type": "code",
      "execution_count": 8,
      "metadata": {
        "id": "jOuprgogKGfD"
      },
      "outputs": [],
      "source": [
        "#KHAI BÁO THƯ VIỆN\n",
        "#Khai báo thư viện để lọc ảnh\n",
        "from os import listdir\n",
        "from numpy import asarray\n",
        "from numpy import save\n",
        "from keras.utils.image_utils import img_to_array\n",
        "from keras.utils import load_img\n",
        "\n",
        "#Khai báo thư viện tính ma trận cho ảnh và vẽ đồ thị ảnh                                                                                                                                                                                                                                                                                                 \n",
        "import numpy as np\n",
        "import pandas as pd\n",
        "import matplotlib.pyplot as plt\n",
        "import seaborn as sns\n",
        "\n",
        "#Khai báo thư viện đường link của model\n",
        "from keras.utils import to_categorical\n",
        "\n",
        "\n",
        "#Khai báo các biến thể hiện giá trị kích thước, số lần học và số lớp\n",
        "from keras.models import Sequential\n",
        "from keras.models import Sequential, Model\n",
        "from keras.layers import Dense, Flatten, Dropout, Conv2D, MaxPooling2D, Normalization\n",
        "from keras.optimizers import Adam\n",
        "from keras.layers import LeakyReLU\n",
        "\n",
        "#Khai báo thư viện học cho Model\n",
        "from keras.losses import categorical_crossentropy"
      ]
    },
    {
      "cell_type": "code",
      "source": [
        "from google.colab import drive\n",
        "drive.mount('/content/drive')"
      ],
      "metadata": {
        "id": "P8b-1ppbeLPT",
        "colab": {
          "base_uri": "https://localhost:8080/"
        },
        "outputId": "e3c9b066-3674-447d-ed25-2078df707d25"
      },
      "execution_count": 9,
      "outputs": [
        {
          "output_type": "stream",
          "name": "stdout",
          "text": [
            "Drive already mounted at /content/drive; to attempt to forcibly remount, call drive.mount(\"/content/drive\", force_remount=True).\n"
          ]
        }
      ]
    },
    {
      "cell_type": "code",
      "source": [
        "#Học ảnh cho VietNam's Food\n",
        "folder = '/content/drive/MyDrive/AI/VietnamFood/'\n",
        "photos, labels = list(), list()\n",
        "for file in listdir(folder):\n",
        "  output = 0.0\n",
        "  if file.startswith('goicuon'):\n",
        "    output = 1.0  # Gỏi cuốn\n",
        "  if file.startswith('banhmi'):\n",
        "    output = 2.0  # Bánh mì\n",
        "  if file.startswith('che'):\n",
        "    output = 3.0  # Chè\n",
        "  if file.startswith('banhcuon'):\n",
        "    output = 4.0  # Bánh cuốn\n",
        "  if file.startswith('banhxeo'):\n",
        "    output = 5.0  # Bánh xèo\n",
        "  if file.startswith('comtam'):\n",
        "    output = 6.0  # Cơm tấm\n",
        "  if file.startswith('pho'):\n",
        "    output = 7.0  # Phở\n",
        "  if file.startswith('bunbo'):\n",
        "    output = 8.0  # Bún bò\n",
        "  if file.startswith('buncha'):\n",
        "    output = 9.0  # Bún chả\n",
        "  if file.startswith('miquang'):\n",
        "    output = 10.0  # Mì Quảng\n",
        "\n",
        "  photo = load_img (folder+file, target_size= (200,200))\n",
        "  photo = img_to_array (photo)\n",
        "  photos.append(photo)\n",
        "  labels.append(output)\n",
        "photos = asarray(photos)\n",
        "labels = asarray(labels)\n",
        "save('/content/drive/MyDrive/AI/Vietnam_Food_photo.npy', photos)\n",
        "save('/content/drive/MyDrive/AI/Vietnam_Food_label.npy', labels)"
      ],
      "metadata": {
        "id": "PxqtjvnYKXqs"
      },
      "execution_count": 10,
      "outputs": []
    },
    {
      "cell_type": "code",
      "source": [
        "#load lại giá trị mới \n",
        "photo = np.load('/content/drive/MyDrive/AI/Vietnam_Food_photo.npy')\n",
        "label = np.load('/content/drive/MyDrive/AI/Vietnam_Food_label.npy')"
      ],
      "metadata": {
        "id": "JIcIUfgxKZMV"
      },
      "execution_count": 11,
      "outputs": []
    },
    {
      "cell_type": "code",
      "source": [
        "#Hiển thị kích thước ảnh\n",
        "photo.shape"
      ],
      "metadata": {
        "id": "xG63dbZ5Kc4P",
        "colab": {
          "base_uri": "https://localhost:8080/"
        },
        "outputId": "48bb0f00-9f40-4a8a-c51d-954f311a867e"
      },
      "execution_count": 12,
      "outputs": [
        {
          "output_type": "execute_result",
          "data": {
            "text/plain": [
              "(600, 200, 200, 3)"
            ]
          },
          "metadata": {},
          "execution_count": 12
        }
      ]
    },
    {
      "cell_type": "code",
      "source": [
        "#Hiển thị kích thước ảnh\n",
        "label.shape"
      ],
      "metadata": {
        "id": "aS93o4DVKfkv",
        "colab": {
          "base_uri": "https://localhost:8080/"
        },
        "outputId": "f71d9d26-1b1b-4396-a1c5-4c83fc7955cf"
      },
      "execution_count": 13,
      "outputs": [
        {
          "output_type": "execute_result",
          "data": {
            "text/plain": [
              "(600,)"
            ]
          },
          "metadata": {},
          "execution_count": 13
        }
      ]
    },
    {
      "cell_type": "code",
      "source": [
        "#Reshape giá trị đưa về mảng\n",
        "photo = photo.reshape(600,200,200,3)\n",
        "photo = photo.astype('float32')/255"
      ],
      "metadata": {
        "id": "BPRCWEHjKgUq"
      },
      "execution_count": 14,
      "outputs": []
    },
    {
      "cell_type": "code",
      "source": [
        "#Phân lớp cho giá trị\n",
        "label = to_categorical(label,11)"
      ],
      "metadata": {
        "id": "FtdTzRv1Kiim"
      },
      "execution_count": 15,
      "outputs": []
    },
    {
      "cell_type": "code",
      "source": [
        "#Khai báo biến giá trị kích thước, số lần học và số lớp\n",
        "batch_size = 128\n",
        "epochs = 60\n",
        "classes = 11"
      ],
      "metadata": {
        "id": "waL1Z2rxKxog"
      },
      "execution_count": 16,
      "outputs": []
    },
    {
      "cell_type": "code",
      "source": [
        "#Tạo các lớp cho model\n",
        "model = Sequential()\n",
        "model.add(Conv2D(32, kernel_size= (3,3), activation= 'linear', input_shape= (200,200,3), padding= 'same'))\n",
        "model.add(LeakyReLU(alpha= 0.1))\n",
        "model.add(MaxPooling2D((2,2), padding= 'same'))\n",
        "\n",
        "model.add(Conv2D(64,(3,3), activation= 'linear', padding= 'same'))\n",
        "model.add(LeakyReLU(alpha= 0.1))\n",
        "model.add(MaxPooling2D((2,2), padding= 'same'))\n",
        "\n",
        "model.add(Conv2D(128,(3,3), activation= 'linear', padding= 'same'))\n",
        "model.add(LeakyReLU(alpha= 0.1))\n",
        "model.add(MaxPooling2D((2,2), padding= 'same'))\n",
        "\n",
        "model.add(Flatten())\n",
        "model.add(Dense(128, activation= 'linear'))\n",
        "model.add(LeakyReLU(alpha= 0.1))\n",
        "model.add(Dense(classes, activation= 'softmax'))\n",
        "model.summary()"
      ],
      "metadata": {
        "id": "sDuxZJ10Lkqk",
        "colab": {
          "base_uri": "https://localhost:8080/"
        },
        "outputId": "f607aba6-866e-49be-92a9-be05166f1412"
      },
      "execution_count": 17,
      "outputs": [
        {
          "output_type": "stream",
          "name": "stdout",
          "text": [
            "Model: \"sequential\"\n",
            "_________________________________________________________________\n",
            " Layer (type)                Output Shape              Param #   \n",
            "=================================================================\n",
            " conv2d (Conv2D)             (None, 200, 200, 32)      896       \n",
            "                                                                 \n",
            " leaky_re_lu (LeakyReLU)     (None, 200, 200, 32)      0         \n",
            "                                                                 \n",
            " max_pooling2d (MaxPooling2D  (None, 100, 100, 32)     0         \n",
            " )                                                               \n",
            "                                                                 \n",
            " conv2d_1 (Conv2D)           (None, 100, 100, 64)      18496     \n",
            "                                                                 \n",
            " leaky_re_lu_1 (LeakyReLU)   (None, 100, 100, 64)      0         \n",
            "                                                                 \n",
            " max_pooling2d_1 (MaxPooling  (None, 50, 50, 64)       0         \n",
            " 2D)                                                             \n",
            "                                                                 \n",
            " conv2d_2 (Conv2D)           (None, 50, 50, 128)       73856     \n",
            "                                                                 \n",
            " leaky_re_lu_2 (LeakyReLU)   (None, 50, 50, 128)       0         \n",
            "                                                                 \n",
            " max_pooling2d_2 (MaxPooling  (None, 25, 25, 128)      0         \n",
            " 2D)                                                             \n",
            "                                                                 \n",
            " flatten (Flatten)           (None, 80000)             0         \n",
            "                                                                 \n",
            " dense (Dense)               (None, 128)               10240128  \n",
            "                                                                 \n",
            " leaky_re_lu_3 (LeakyReLU)   (None, 128)               0         \n",
            "                                                                 \n",
            " dense_1 (Dense)             (None, 11)                1419      \n",
            "                                                                 \n",
            "=================================================================\n",
            "Total params: 10,334,795\n",
            "Trainable params: 10,334,795\n",
            "Non-trainable params: 0\n",
            "_________________________________________________________________\n"
          ]
        }
      ]
    },
    {
      "cell_type": "code",
      "source": [
        "#Model học các hình ảnh đã load\n",
        "model.compile(optimizer= Adam(), loss= categorical_crossentropy, metrics= ['accuracy'])\n",
        "train = model.fit(photo, label, epochs= epochs, batch_size= batch_size, verbose= 1)"
      ],
      "metadata": {
        "id": "_gADgdhFLnHS",
        "colab": {
          "base_uri": "https://localhost:8080/"
        },
        "outputId": "89d7eb2d-0d98-4e1d-e874-f22c90f6f882"
      },
      "execution_count": 18,
      "outputs": [
        {
          "output_type": "stream",
          "name": "stdout",
          "text": [
            "Epoch 1/60\n",
            "5/5 [==============================] - 16s 662ms/step - loss: 3.4686 - accuracy: 0.0917\n",
            "Epoch 2/60\n",
            "5/5 [==============================] - 1s 164ms/step - loss: 2.3455 - accuracy: 0.1317\n",
            "Epoch 3/60\n",
            "5/5 [==============================] - 1s 161ms/step - loss: 2.1226 - accuracy: 0.2533\n",
            "Epoch 4/60\n",
            "5/5 [==============================] - 1s 163ms/step - loss: 1.9393 - accuracy: 0.3233\n",
            "Epoch 5/60\n",
            "5/5 [==============================] - 1s 160ms/step - loss: 1.7018 - accuracy: 0.4167\n",
            "Epoch 6/60\n",
            "5/5 [==============================] - 1s 173ms/step - loss: 1.4591 - accuracy: 0.5617\n",
            "Epoch 7/60\n",
            "5/5 [==============================] - 1s 186ms/step - loss: 1.1983 - accuracy: 0.6333\n",
            "Epoch 8/60\n",
            "5/5 [==============================] - 1s 198ms/step - loss: 0.9302 - accuracy: 0.7283\n",
            "Epoch 9/60\n",
            "5/5 [==============================] - 1s 220ms/step - loss: 0.7018 - accuracy: 0.8083\n",
            "Epoch 10/60\n",
            "5/5 [==============================] - 1s 223ms/step - loss: 0.5092 - accuracy: 0.8483\n",
            "Epoch 11/60\n",
            "5/5 [==============================] - 1s 190ms/step - loss: 0.3408 - accuracy: 0.9017\n",
            "Epoch 12/60\n",
            "5/5 [==============================] - 1s 185ms/step - loss: 0.2167 - accuracy: 0.9467\n",
            "Epoch 13/60\n",
            "5/5 [==============================] - 1s 169ms/step - loss: 0.1325 - accuracy: 0.9750\n",
            "Epoch 14/60\n",
            "5/5 [==============================] - 1s 180ms/step - loss: 0.1519 - accuracy: 0.9483\n",
            "Epoch 15/60\n",
            "5/5 [==============================] - 1s 171ms/step - loss: 0.1131 - accuracy: 0.9783\n",
            "Epoch 16/60\n",
            "5/5 [==============================] - 1s 181ms/step - loss: 0.0633 - accuracy: 0.9917\n",
            "Epoch 17/60\n",
            "5/5 [==============================] - 1s 186ms/step - loss: 0.0424 - accuracy: 0.9900\n",
            "Epoch 18/60\n",
            "5/5 [==============================] - 1s 178ms/step - loss: 0.0208 - accuracy: 0.9967\n",
            "Epoch 19/60\n",
            "5/5 [==============================] - 1s 169ms/step - loss: 0.0103 - accuracy: 1.0000\n",
            "Epoch 20/60\n",
            "5/5 [==============================] - 1s 182ms/step - loss: 0.0074 - accuracy: 1.0000\n",
            "Epoch 21/60\n",
            "5/5 [==============================] - 1s 169ms/step - loss: 0.0042 - accuracy: 0.9983\n",
            "Epoch 22/60\n",
            "5/5 [==============================] - 1s 163ms/step - loss: 0.0039 - accuracy: 1.0000\n",
            "Epoch 23/60\n",
            "5/5 [==============================] - 1s 169ms/step - loss: 0.0025 - accuracy: 1.0000\n",
            "Epoch 24/60\n",
            "5/5 [==============================] - 1s 170ms/step - loss: 0.0024 - accuracy: 1.0000\n",
            "Epoch 25/60\n",
            "5/5 [==============================] - 1s 176ms/step - loss: 0.0016 - accuracy: 1.0000\n",
            "Epoch 26/60\n",
            "5/5 [==============================] - 1s 181ms/step - loss: 0.0015 - accuracy: 1.0000\n",
            "Epoch 27/60\n",
            "5/5 [==============================] - 1s 166ms/step - loss: 0.0011 - accuracy: 1.0000\n",
            "Epoch 28/60\n",
            "5/5 [==============================] - 1s 162ms/step - loss: 0.0012 - accuracy: 1.0000\n",
            "Epoch 29/60\n",
            "5/5 [==============================] - 1s 161ms/step - loss: 7.3996e-04 - accuracy: 1.0000\n",
            "Epoch 30/60\n",
            "5/5 [==============================] - 1s 164ms/step - loss: 7.8143e-04 - accuracy: 1.0000\n",
            "Epoch 31/60\n",
            "5/5 [==============================] - 1s 162ms/step - loss: 5.9017e-04 - accuracy: 1.0000\n",
            "Epoch 32/60\n",
            "5/5 [==============================] - 1s 161ms/step - loss: 5.1523e-04 - accuracy: 1.0000\n",
            "Epoch 33/60\n",
            "5/5 [==============================] - 1s 162ms/step - loss: 5.0585e-04 - accuracy: 1.0000\n",
            "Epoch 34/60\n",
            "5/5 [==============================] - 1s 162ms/step - loss: 4.7547e-04 - accuracy: 1.0000\n",
            "Epoch 35/60\n",
            "5/5 [==============================] - 1s 163ms/step - loss: 4.2892e-04 - accuracy: 1.0000\n",
            "Epoch 36/60\n",
            "5/5 [==============================] - 1s 162ms/step - loss: 4.0326e-04 - accuracy: 1.0000\n",
            "Epoch 37/60\n",
            "5/5 [==============================] - 1s 163ms/step - loss: 3.8973e-04 - accuracy: 1.0000\n",
            "Epoch 38/60\n",
            "5/5 [==============================] - 1s 164ms/step - loss: 3.6919e-04 - accuracy: 1.0000\n",
            "Epoch 39/60\n",
            "5/5 [==============================] - 1s 162ms/step - loss: 3.5087e-04 - accuracy: 1.0000\n",
            "Epoch 40/60\n",
            "5/5 [==============================] - 1s 170ms/step - loss: 3.3406e-04 - accuracy: 1.0000\n",
            "Epoch 41/60\n",
            "5/5 [==============================] - 1s 177ms/step - loss: 3.2702e-04 - accuracy: 1.0000\n",
            "Epoch 42/60\n",
            "5/5 [==============================] - 1s 178ms/step - loss: 3.1022e-04 - accuracy: 1.0000\n",
            "Epoch 43/60\n",
            "5/5 [==============================] - 1s 177ms/step - loss: 3.0096e-04 - accuracy: 1.0000\n",
            "Epoch 44/60\n",
            "5/5 [==============================] - 1s 162ms/step - loss: 2.8683e-04 - accuracy: 1.0000\n",
            "Epoch 45/60\n",
            "5/5 [==============================] - 1s 162ms/step - loss: 2.7635e-04 - accuracy: 1.0000\n",
            "Epoch 46/60\n",
            "5/5 [==============================] - 1s 165ms/step - loss: 2.6374e-04 - accuracy: 1.0000\n",
            "Epoch 47/60\n",
            "5/5 [==============================] - 1s 165ms/step - loss: 2.5342e-04 - accuracy: 1.0000\n",
            "Epoch 48/60\n",
            "5/5 [==============================] - 1s 163ms/step - loss: 2.4810e-04 - accuracy: 1.0000\n",
            "Epoch 49/60\n",
            "5/5 [==============================] - 1s 162ms/step - loss: 2.3753e-04 - accuracy: 1.0000\n",
            "Epoch 50/60\n",
            "5/5 [==============================] - 1s 171ms/step - loss: 2.3213e-04 - accuracy: 1.0000\n",
            "Epoch 51/60\n",
            "5/5 [==============================] - 1s 163ms/step - loss: 2.2220e-04 - accuracy: 1.0000\n",
            "Epoch 52/60\n",
            "5/5 [==============================] - 1s 161ms/step - loss: 2.1494e-04 - accuracy: 1.0000\n",
            "Epoch 53/60\n",
            "5/5 [==============================] - 1s 164ms/step - loss: 2.0753e-04 - accuracy: 1.0000\n",
            "Epoch 54/60\n",
            "5/5 [==============================] - 1s 163ms/step - loss: 2.0171e-04 - accuracy: 1.0000\n",
            "Epoch 55/60\n",
            "5/5 [==============================] - 1s 169ms/step - loss: 1.9710e-04 - accuracy: 1.0000\n",
            "Epoch 56/60\n",
            "5/5 [==============================] - 1s 180ms/step - loss: 1.9082e-04 - accuracy: 1.0000\n",
            "Epoch 57/60\n",
            "5/5 [==============================] - 1s 181ms/step - loss: 1.8649e-04 - accuracy: 1.0000\n",
            "Epoch 58/60\n",
            "5/5 [==============================] - 1s 174ms/step - loss: 1.8053e-04 - accuracy: 1.0000\n",
            "Epoch 59/60\n",
            "5/5 [==============================] - 1s 166ms/step - loss: 1.7465e-04 - accuracy: 1.0000\n",
            "Epoch 60/60\n",
            "5/5 [==============================] - 1s 162ms/step - loss: 1.6987e-04 - accuracy: 1.0000\n"
          ]
        }
      ]
    },
    {
      "cell_type": "code",
      "source": [
        "model.save('/content/drive/MyDrive/Abstract_AI/VietNam_Food_cnn.h5')"
      ],
      "metadata": {
        "id": "Fzld57ZzL3SY"
      },
      "execution_count": 19,
      "outputs": []
    }
  ]
}