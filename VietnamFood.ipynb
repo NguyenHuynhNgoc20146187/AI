{
  "nbformat": 4,
  "nbformat_minor": 0,
  "metadata": {
    "colab": {
      "provenance": [],
      "mount_file_id": "13q1Y9iyZKTvFUznzANbkPvutYAQhGdQY",
      "authorship_tag": "ABX9TyPTOlepAjHfGxyYgmPSiexP",
      "include_colab_link": true
    },
    "kernelspec": {
      "name": "python3",
      "display_name": "Python 3"
    },
    "language_info": {
      "name": "python"
    },
    "accelerator": "GPU",
    "gpuClass": "standard"
  },
  "cells": [
    {
      "cell_type": "markdown",
      "metadata": {
        "id": "view-in-github",
        "colab_type": "text"
      },
      "source": [
        "<a href=\"https://colab.research.google.com/github/NguyenHuynhNgoc20146187/AI/blob/main/VietnamFood.ipynb\" target=\"_parent\"><img src=\"https://colab.research.google.com/assets/colab-badge.svg\" alt=\"Open In Colab\"/></a>"
      ]
    },
    {
      "cell_type": "code",
      "execution_count": 1,
      "metadata": {
        "id": "jOuprgogKGfD"
      },
      "outputs": [],
      "source": [
        "#KHAI BÁO THƯ VIỆN\n",
        "#Khai báo thư viện để lọc ảnh\n",
        "from os import listdir\n",
        "from numpy import asarray\n",
        "from numpy import save\n",
        "from keras.utils.image_utils import img_to_array\n",
        "from keras.utils import load_img\n",
        "\n",
        "#Khai báo thư viện tính ma trận cho ảnh và vẽ đồ thị ảnh                                                                                                                                                                                                                                                                                                 \n",
        "import numpy as np\n",
        "import pandas as pd\n",
        "import matplotlib.pyplot as plt\n",
        "import seaborn as sns\n",
        "\n",
        "#Khai báo thư viện đường link của model\n",
        "from keras.utils import to_categorical\n",
        "\n",
        "\n",
        "#Khai báo các biến thể hiện giá trị kích thước, số lần học và số lớp\n",
        "from keras.models import Sequential\n",
        "from keras.models import Sequential, Model\n",
        "from keras.layers import Dense, Flatten, Dropout, Conv2D, MaxPooling2D, Normalization\n",
        "from keras.optimizers import Adam\n",
        "from keras.layers import LeakyReLU\n",
        "\n",
        "#Khai báo thư viện học cho Model\n",
        "from keras.losses import categorical_crossentropy"
      ]
    },
    {
      "cell_type": "code",
      "source": [
        "from google.colab import drive\n",
        "drive.mount('/content/drive')"
      ],
      "metadata": {
        "id": "P8b-1ppbeLPT",
        "colab": {
          "base_uri": "https://localhost:8080/"
        },
        "outputId": "052005fb-e287-4261-89e3-f3c979e0ef67"
      },
      "execution_count": 2,
      "outputs": [
        {
          "output_type": "stream",
          "name": "stdout",
          "text": [
            "Drive already mounted at /content/drive; to attempt to forcibly remount, call drive.mount(\"/content/drive\", force_remount=True).\n"
          ]
        }
      ]
    },
    {
      "cell_type": "code",
      "source": [
        "#Học ảnh cho VietNam's Food\n",
        "folder = '/content/drive/MyDrive/AI/VietnamFood/'\n",
        "photos, labels = list(), list()\n",
        "for file in listdir(folder):\n",
        "  output = 0.0\n",
        "\n",
        "  if file.startswith('comtam'):\n",
        "    output = 1.0  #Cơm tấm\n",
        "  if file.startswith('pho'):\n",
        "    output = 2.0  #Phở\n",
        "  if file.startswith('bunbo'):\n",
        "    output = 3.0  #Bún bò\n",
        "  if file.startswith('miquang'):\n",
        "    output = 4.0  #Mì quảng\n",
        "  if file.startswith('banhmi'):\n",
        "    output = 5.0  #Bánh mì\n",
        "  if file.startswith('buncha'):\n",
        "    output = 6.0  #Bún chả\n",
        "  if file.startswith('banhcuon'):\n",
        "    output = 7.0  #Bánh cuốn\n",
        "  if file.startswith('banhxeo'):\n",
        "    output = 8.0  #Bánh xèo\n",
        "  if file.startswith('che'):\n",
        "    output = 9.0  #Chè\n",
        "  if file.startswith('goicuon'):\n",
        "    output = 10.0  #Gỏi cuốn\n",
        "\n",
        "\n",
        "  photo = load_img (folder+file, target_size= (200,200))\n",
        "  photo = img_to_array (photo)\n",
        "  photos.append(photo)\n",
        "  labels.append(output)\n",
        "photos = asarray(photos)\n",
        "labels = asarray(labels)\n",
        "save('/content/drive/MyDrive/AI/Vietnam_Food_photo.npy', photos)\n",
        "save('/content/drive/MyDrive/AI/Vietnam_Food_label.npy', labels)"
      ],
      "metadata": {
        "id": "PxqtjvnYKXqs"
      },
      "execution_count": 3,
      "outputs": []
    },
    {
      "cell_type": "code",
      "source": [
        "#load lại giá trị mới \n",
        "photo = np.load('/content/drive/MyDrive/AI/Vietnam_Food_photo.npy')\n",
        "label = np.load('/content/drive/MyDrive/AI/Vietnam_Food_label.npy')"
      ],
      "metadata": {
        "id": "JIcIUfgxKZMV"
      },
      "execution_count": 4,
      "outputs": []
    },
    {
      "cell_type": "code",
      "source": [
        "#Hiển thị kích thước ảnh\n",
        "photo.shape"
      ],
      "metadata": {
        "id": "xG63dbZ5Kc4P",
        "colab": {
          "base_uri": "https://localhost:8080/"
        },
        "outputId": "ff77039f-4956-460d-db39-8def97d6bb77"
      },
      "execution_count": 5,
      "outputs": [
        {
          "output_type": "execute_result",
          "data": {
            "text/plain": [
              "(600, 200, 200, 3)"
            ]
          },
          "metadata": {},
          "execution_count": 5
        }
      ]
    },
    {
      "cell_type": "code",
      "source": [
        "#Hiển thị kích thước ảnh\n",
        "label.shape"
      ],
      "metadata": {
        "id": "aS93o4DVKfkv",
        "colab": {
          "base_uri": "https://localhost:8080/"
        },
        "outputId": "d8296033-aad6-49c3-aef3-e99d273d68a6"
      },
      "execution_count": 6,
      "outputs": [
        {
          "output_type": "execute_result",
          "data": {
            "text/plain": [
              "(600,)"
            ]
          },
          "metadata": {},
          "execution_count": 6
        }
      ]
    },
    {
      "cell_type": "code",
      "source": [
        "#Reshape giá trị đưa về mảng\n",
        "photo = photo.reshape(600,200,200,3)\n",
        "photo = photo.astype('float32')/255"
      ],
      "metadata": {
        "id": "BPRCWEHjKgUq"
      },
      "execution_count": 7,
      "outputs": []
    },
    {
      "cell_type": "code",
      "source": [
        "#Phân lớp cho giá trị\n",
        "label = to_categorical(label,11)"
      ],
      "metadata": {
        "id": "FtdTzRv1Kiim"
      },
      "execution_count": 8,
      "outputs": []
    },
    {
      "cell_type": "code",
      "source": [
        "#Khai báo biến giá trị kích thước, số lần học và số lớp\n",
        "batch_size = 128\n",
        "epochs = 80\n",
        "classes = 11"
      ],
      "metadata": {
        "id": "waL1Z2rxKxog"
      },
      "execution_count": 9,
      "outputs": []
    },
    {
      "cell_type": "code",
      "source": [
        "#Tạo các lớp cho model\n",
        "model = Sequential()\n",
        "model.add(Conv2D(32, kernel_size= (3,3), activation= 'linear', input_shape= (200,200,3), padding= 'same'))\n",
        "model.add(LeakyReLU(alpha= 0.1))\n",
        "model.add(MaxPooling2D((2,2), padding= 'same'))\n",
        "\n",
        "model.add(Conv2D(64,(3,3), activation= 'linear', padding= 'same'))\n",
        "model.add(LeakyReLU(alpha= 0.1))\n",
        "model.add(MaxPooling2D((2,2), padding= 'same'))\n",
        "\n",
        "model.add(Conv2D(128,(3,3), activation= 'linear', padding= 'same'))\n",
        "model.add(LeakyReLU(alpha= 0.1))\n",
        "model.add(MaxPooling2D((2,2), padding= 'same'))\n",
        "\n",
        "model.add(Flatten())\n",
        "model.add(Dense(128, activation= 'linear'))\n",
        "model.add(LeakyReLU(alpha= 0.1))\n",
        "model.add(Dense(classes, activation= 'softmax'))\n",
        "model.summary()"
      ],
      "metadata": {
        "id": "sDuxZJ10Lkqk",
        "colab": {
          "base_uri": "https://localhost:8080/"
        },
        "outputId": "a9d2034d-6a82-489f-9806-2196cf5fd5cf"
      },
      "execution_count": 10,
      "outputs": [
        {
          "output_type": "stream",
          "name": "stdout",
          "text": [
            "Model: \"sequential\"\n",
            "_________________________________________________________________\n",
            " Layer (type)                Output Shape              Param #   \n",
            "=================================================================\n",
            " conv2d (Conv2D)             (None, 200, 200, 32)      896       \n",
            "                                                                 \n",
            " leaky_re_lu (LeakyReLU)     (None, 200, 200, 32)      0         \n",
            "                                                                 \n",
            " max_pooling2d (MaxPooling2D  (None, 100, 100, 32)     0         \n",
            " )                                                               \n",
            "                                                                 \n",
            " conv2d_1 (Conv2D)           (None, 100, 100, 64)      18496     \n",
            "                                                                 \n",
            " leaky_re_lu_1 (LeakyReLU)   (None, 100, 100, 64)      0         \n",
            "                                                                 \n",
            " max_pooling2d_1 (MaxPooling  (None, 50, 50, 64)       0         \n",
            " 2D)                                                             \n",
            "                                                                 \n",
            " conv2d_2 (Conv2D)           (None, 50, 50, 128)       73856     \n",
            "                                                                 \n",
            " leaky_re_lu_2 (LeakyReLU)   (None, 50, 50, 128)       0         \n",
            "                                                                 \n",
            " max_pooling2d_2 (MaxPooling  (None, 25, 25, 128)      0         \n",
            " 2D)                                                             \n",
            "                                                                 \n",
            " flatten (Flatten)           (None, 80000)             0         \n",
            "                                                                 \n",
            " dense (Dense)               (None, 128)               10240128  \n",
            "                                                                 \n",
            " leaky_re_lu_3 (LeakyReLU)   (None, 128)               0         \n",
            "                                                                 \n",
            " dense_1 (Dense)             (None, 11)                1419      \n",
            "                                                                 \n",
            "=================================================================\n",
            "Total params: 10,334,795\n",
            "Trainable params: 10,334,795\n",
            "Non-trainable params: 0\n",
            "_________________________________________________________________\n"
          ]
        }
      ]
    },
    {
      "cell_type": "code",
      "source": [
        "#Model học các hình ảnh đã load\n",
        "model.compile(optimizer= Adam(), loss= categorical_crossentropy, metrics= ['accuracy'])\n",
        "train = model.fit(photo, label, epochs= epochs, batch_size= batch_size, verbose= 1)"
      ],
      "metadata": {
        "id": "_gADgdhFLnHS",
        "colab": {
          "base_uri": "https://localhost:8080/"
        },
        "outputId": "ede9bcbc-0648-4394-da6f-8c3c0aae7c68"
      },
      "execution_count": 11,
      "outputs": [
        {
          "output_type": "stream",
          "name": "stdout",
          "text": [
            "Epoch 1/80\n",
            "5/5 [==============================] - 15s 641ms/step - loss: 5.8261 - accuracy: 0.1083\n",
            "Epoch 2/80\n",
            "5/5 [==============================] - 1s 162ms/step - loss: 2.5701 - accuracy: 0.1983\n",
            "Epoch 3/80\n",
            "5/5 [==============================] - 1s 162ms/step - loss: 2.1364 - accuracy: 0.2150\n",
            "Epoch 4/80\n",
            "5/5 [==============================] - 1s 161ms/step - loss: 1.8789 - accuracy: 0.3567\n",
            "Epoch 5/80\n",
            "5/5 [==============================] - 1s 161ms/step - loss: 1.6949 - accuracy: 0.4217\n",
            "Epoch 6/80\n",
            "5/5 [==============================] - 1s 165ms/step - loss: 1.4975 - accuracy: 0.5217\n",
            "Epoch 7/80\n",
            "5/5 [==============================] - 1s 162ms/step - loss: 1.3200 - accuracy: 0.5567\n",
            "Epoch 8/80\n",
            "5/5 [==============================] - 1s 161ms/step - loss: 1.1911 - accuracy: 0.6317\n",
            "Epoch 9/80\n",
            "5/5 [==============================] - 1s 162ms/step - loss: 1.0891 - accuracy: 0.6367\n",
            "Epoch 10/80\n",
            "5/5 [==============================] - 1s 165ms/step - loss: 0.8566 - accuracy: 0.7367\n",
            "Epoch 11/80\n",
            "5/5 [==============================] - 1s 174ms/step - loss: 0.7392 - accuracy: 0.7617\n",
            "Epoch 12/80\n",
            "5/5 [==============================] - 1s 177ms/step - loss: 0.5295 - accuracy: 0.8433\n",
            "Epoch 13/80\n",
            "5/5 [==============================] - 1s 173ms/step - loss: 0.4021 - accuracy: 0.8983\n",
            "Epoch 14/80\n",
            "5/5 [==============================] - 1s 175ms/step - loss: 0.2731 - accuracy: 0.9283\n",
            "Epoch 15/80\n",
            "5/5 [==============================] - 1s 172ms/step - loss: 0.2028 - accuracy: 0.9583\n",
            "Epoch 16/80\n",
            "5/5 [==============================] - 1s 161ms/step - loss: 0.1107 - accuracy: 0.9867\n",
            "Epoch 17/80\n",
            "5/5 [==============================] - 1s 164ms/step - loss: 0.0666 - accuracy: 0.9900\n",
            "Epoch 18/80\n",
            "5/5 [==============================] - 1s 164ms/step - loss: 0.0406 - accuracy: 0.9983\n",
            "Epoch 19/80\n",
            "5/5 [==============================] - 1s 162ms/step - loss: 0.0272 - accuracy: 0.9983\n",
            "Epoch 20/80\n",
            "5/5 [==============================] - 1s 162ms/step - loss: 0.0201 - accuracy: 0.9983\n",
            "Epoch 21/80\n",
            "5/5 [==============================] - 1s 162ms/step - loss: 0.0143 - accuracy: 1.0000\n",
            "Epoch 22/80\n",
            "5/5 [==============================] - 1s 161ms/step - loss: 0.0108 - accuracy: 1.0000\n",
            "Epoch 23/80\n",
            "5/5 [==============================] - 1s 160ms/step - loss: 0.0084 - accuracy: 0.9983\n",
            "Epoch 24/80\n",
            "5/5 [==============================] - 1s 163ms/step - loss: 0.0061 - accuracy: 1.0000\n",
            "Epoch 25/80\n",
            "5/5 [==============================] - 1s 162ms/step - loss: 0.0047 - accuracy: 1.0000\n",
            "Epoch 26/80\n",
            "5/5 [==============================] - 1s 162ms/step - loss: 0.0034 - accuracy: 1.0000\n",
            "Epoch 27/80\n",
            "5/5 [==============================] - 1s 172ms/step - loss: 0.0037 - accuracy: 1.0000\n",
            "Epoch 28/80\n",
            "5/5 [==============================] - 1s 180ms/step - loss: 0.0062 - accuracy: 0.9983\n",
            "Epoch 29/80\n",
            "5/5 [==============================] - 1s 184ms/step - loss: 0.0044 - accuracy: 0.9983\n",
            "Epoch 30/80\n",
            "5/5 [==============================] - 1s 183ms/step - loss: 0.0081 - accuracy: 0.9983\n",
            "Epoch 31/80\n",
            "5/5 [==============================] - 1s 177ms/step - loss: 0.0078 - accuracy: 0.9983\n",
            "Epoch 32/80\n",
            "5/5 [==============================] - 1s 182ms/step - loss: 0.0038 - accuracy: 1.0000\n",
            "Epoch 33/80\n",
            "5/5 [==============================] - 1s 174ms/step - loss: 0.0040 - accuracy: 1.0000\n",
            "Epoch 34/80\n",
            "5/5 [==============================] - 1s 173ms/step - loss: 0.0024 - accuracy: 1.0000\n",
            "Epoch 35/80\n",
            "5/5 [==============================] - 1s 167ms/step - loss: 0.0021 - accuracy: 1.0000\n",
            "Epoch 36/80\n",
            "5/5 [==============================] - 1s 164ms/step - loss: 0.0017 - accuracy: 1.0000\n",
            "Epoch 37/80\n",
            "5/5 [==============================] - 1s 164ms/step - loss: 0.0014 - accuracy: 1.0000\n",
            "Epoch 38/80\n",
            "5/5 [==============================] - 1s 163ms/step - loss: 0.0013 - accuracy: 1.0000\n",
            "Epoch 39/80\n",
            "5/5 [==============================] - 1s 163ms/step - loss: 0.0012 - accuracy: 1.0000\n",
            "Epoch 40/80\n",
            "5/5 [==============================] - 1s 164ms/step - loss: 0.0011 - accuracy: 1.0000\n",
            "Epoch 41/80\n",
            "5/5 [==============================] - 1s 163ms/step - loss: 9.9997e-04 - accuracy: 1.0000\n",
            "Epoch 42/80\n",
            "5/5 [==============================] - 1s 165ms/step - loss: 9.3965e-04 - accuracy: 1.0000\n",
            "Epoch 43/80\n",
            "5/5 [==============================] - 1s 163ms/step - loss: 8.7098e-04 - accuracy: 1.0000\n",
            "Epoch 44/80\n",
            "5/5 [==============================] - 1s 182ms/step - loss: 8.3332e-04 - accuracy: 1.0000\n",
            "Epoch 45/80\n",
            "5/5 [==============================] - 1s 189ms/step - loss: 7.8964e-04 - accuracy: 1.0000\n",
            "Epoch 46/80\n",
            "5/5 [==============================] - 1s 176ms/step - loss: 7.5126e-04 - accuracy: 1.0000\n",
            "Epoch 47/80\n",
            "5/5 [==============================] - 1s 181ms/step - loss: 7.1891e-04 - accuracy: 1.0000\n",
            "Epoch 48/80\n",
            "5/5 [==============================] - 1s 167ms/step - loss: 6.9048e-04 - accuracy: 1.0000\n",
            "Epoch 49/80\n",
            "5/5 [==============================] - 1s 164ms/step - loss: 6.5973e-04 - accuracy: 1.0000\n",
            "Epoch 50/80\n",
            "5/5 [==============================] - 1s 165ms/step - loss: 6.3623e-04 - accuracy: 1.0000\n",
            "Epoch 51/80\n",
            "5/5 [==============================] - 1s 163ms/step - loss: 6.1672e-04 - accuracy: 1.0000\n",
            "Epoch 52/80\n",
            "5/5 [==============================] - 1s 164ms/step - loss: 5.8887e-04 - accuracy: 1.0000\n",
            "Epoch 53/80\n",
            "5/5 [==============================] - 1s 164ms/step - loss: 5.6942e-04 - accuracy: 1.0000\n",
            "Epoch 54/80\n",
            "5/5 [==============================] - 1s 163ms/step - loss: 5.5190e-04 - accuracy: 1.0000\n",
            "Epoch 55/80\n",
            "5/5 [==============================] - 1s 162ms/step - loss: 5.2757e-04 - accuracy: 1.0000\n",
            "Epoch 56/80\n",
            "5/5 [==============================] - 1s 167ms/step - loss: 5.1363e-04 - accuracy: 1.0000\n",
            "Epoch 57/80\n",
            "5/5 [==============================] - 1s 164ms/step - loss: 4.9879e-04 - accuracy: 1.0000\n",
            "Epoch 58/80\n",
            "5/5 [==============================] - 1s 164ms/step - loss: 4.8492e-04 - accuracy: 1.0000\n",
            "Epoch 59/80\n",
            "5/5 [==============================] - 1s 164ms/step - loss: 4.7126e-04 - accuracy: 1.0000\n",
            "Epoch 60/80\n",
            "5/5 [==============================] - 1s 171ms/step - loss: 4.5420e-04 - accuracy: 1.0000\n",
            "Epoch 61/80\n",
            "5/5 [==============================] - 1s 179ms/step - loss: 4.3928e-04 - accuracy: 1.0000\n",
            "Epoch 62/80\n",
            "5/5 [==============================] - 1s 183ms/step - loss: 4.2727e-04 - accuracy: 1.0000\n",
            "Epoch 63/80\n",
            "5/5 [==============================] - 1s 190ms/step - loss: 4.1419e-04 - accuracy: 1.0000\n",
            "Epoch 64/80\n",
            "5/5 [==============================] - 1s 171ms/step - loss: 4.0282e-04 - accuracy: 1.0000\n",
            "Epoch 65/80\n",
            "5/5 [==============================] - 1s 165ms/step - loss: 3.9214e-04 - accuracy: 1.0000\n",
            "Epoch 66/80\n",
            "5/5 [==============================] - 1s 167ms/step - loss: 3.8217e-04 - accuracy: 1.0000\n",
            "Epoch 67/80\n",
            "5/5 [==============================] - 1s 165ms/step - loss: 3.7131e-04 - accuracy: 1.0000\n",
            "Epoch 68/80\n",
            "5/5 [==============================] - 1s 165ms/step - loss: 3.6425e-04 - accuracy: 1.0000\n",
            "Epoch 69/80\n",
            "5/5 [==============================] - 1s 165ms/step - loss: 3.5467e-04 - accuracy: 1.0000\n",
            "Epoch 70/80\n",
            "5/5 [==============================] - 1s 166ms/step - loss: 3.4322e-04 - accuracy: 1.0000\n",
            "Epoch 71/80\n",
            "5/5 [==============================] - 1s 169ms/step - loss: 3.4010e-04 - accuracy: 1.0000\n",
            "Epoch 72/80\n",
            "5/5 [==============================] - 1s 167ms/step - loss: 3.2753e-04 - accuracy: 1.0000\n",
            "Epoch 73/80\n",
            "5/5 [==============================] - 1s 167ms/step - loss: 3.1807e-04 - accuracy: 1.0000\n",
            "Epoch 74/80\n",
            "5/5 [==============================] - 1s 165ms/step - loss: 3.1116e-04 - accuracy: 1.0000\n",
            "Epoch 75/80\n",
            "5/5 [==============================] - 1s 165ms/step - loss: 3.0359e-04 - accuracy: 1.0000\n",
            "Epoch 76/80\n",
            "5/5 [==============================] - 1s 179ms/step - loss: 2.9627e-04 - accuracy: 1.0000\n",
            "Epoch 77/80\n",
            "5/5 [==============================] - 1s 175ms/step - loss: 2.8994e-04 - accuracy: 1.0000\n",
            "Epoch 78/80\n",
            "5/5 [==============================] - 1s 184ms/step - loss: 2.8445e-04 - accuracy: 1.0000\n",
            "Epoch 79/80\n",
            "5/5 [==============================] - 1s 186ms/step - loss: 2.7747e-04 - accuracy: 1.0000\n",
            "Epoch 80/80\n",
            "5/5 [==============================] - 1s 173ms/step - loss: 2.7051e-04 - accuracy: 1.0000\n"
          ]
        }
      ]
    },
    {
      "cell_type": "code",
      "source": [
        "model.save('/content/drive/MyDrive/AI/VietNam_Food_cnn.h5')"
      ],
      "metadata": {
        "id": "Fzld57ZzL3SY"
      },
      "execution_count": 12,
      "outputs": []
    }
  ]
}