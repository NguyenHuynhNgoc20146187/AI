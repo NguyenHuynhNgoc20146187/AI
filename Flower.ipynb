{
  "cells": [
    {
      "cell_type": "markdown",
      "metadata": {
        "id": "view-in-github",
        "colab_type": "text"
      },
      "source": [
        "<a href=\"https://colab.research.google.com/github/NguyenHuynhNgoc20146187/AI/blob/main/Flower.ipynb\" target=\"_parent\"><img src=\"https://colab.research.google.com/assets/colab-badge.svg\" alt=\"Open In Colab\"/></a>"
      ]
    },
    {
      "cell_type": "code",
      "execution_count": null,
      "metadata": {
        "id": "3BFiWqQhDuJO"
      },
      "outputs": [],
      "source": [
        "#KHAI BÁO THƯ VIỆN\n",
        "#Khai báo thư viện để lọc ảnh\n",
        "from os import listdir\n",
        "from numpy import asarray\n",
        "from numpy import save\n",
        "from keras.utils.image_utils import img_to_array\n",
        "from keras.utils import load_img\n",
        "\n",
        "#Khai báo thư viện tính ma trận cho ảnh và vẽ đồ thị ảnh                                                                                                                                                                                                                                                                                                 \n",
        "import numpy as np\n",
        "import pandas as pd\n",
        "import matplotlib.pyplot as plt\n",
        "import seaborn as sns\n",
        "\n",
        "#Khai báo thư viện đường link của model\n",
        "from keras.utils import to_categorical\n",
        "\n",
        "\n",
        "#Khai báo các biến thể hiện giá trị kích thước, số lần học và số lớp\n",
        "from keras.models import Sequential\n",
        "from keras.models import Sequential, Model\n",
        "from keras.layers import Dense, Flatten, Dropout, Conv2D, MaxPooling2D, Normalization\n",
        "from keras.optimizers import Adam\n",
        "from keras.layers import LeakyReLU\n",
        "\n",
        "#Khai báo thư viện học cho Model\n",
        "from keras.losses import categorical_crossentropy"
      ]
    },
    {
      "cell_type": "code",
      "execution_count": null,
      "metadata": {
        "colab": {
          "base_uri": "https://localhost:8080/"
        },
        "id": "ss2HcIJWDy9q",
        "outputId": "1516dde9-ce2d-4c48-e047-01419905effd"
      },
      "outputs": [
        {
          "name": "stderr",
          "output_type": "stream",
          "text": [
            "/usr/local/lib/python3.9/dist-packages/PIL/Image.py:975: UserWarning: Palette images with Transparency expressed in bytes should be converted to RGBA images\n",
            "  warnings.warn(\n"
          ]
        }
      ],
      "source": [
        "#Học ảnh cho VietNam's Food\n",
        "folder = '/content/drive/MyDrive/AI/Flower/'\n",
        "photos, labels = list(), list()\n",
        "for file in listdir(folder):\n",
        "  output = 0.0\n",
        "  if file.startswith('hoahong'):\n",
        "    output = 1.0  \n",
        "  if file.startswith('hoacuc'):\n",
        "    output = 2.0  \n",
        "  if file.startswith('hoasung'):\n",
        "    output = 3.0 \n",
        "  if file.startswith('hoasen'):\n",
        "    output = 4.0  \n",
        "  if file.startswith('hoamo'):\n",
        "    output = 5.0  \n",
        "\n",
        "  photo = load_img (folder+file, target_size= (200,200))\n",
        "  photo = img_to_array (photo)\n",
        "  photos.append(photo)\n",
        "  labels.append(output)\n",
        "photos = asarray(photos)\n",
        "labels = asarray(labels)\n",
        "save('/content/drive/MyDrive/AI/Flowers_photo.npy', photos)\n",
        "save('/content/drive/MyDrive/AI/Flowers_label.npy', labels)"
      ]
    },
    {
      "cell_type": "code",
      "execution_count": null,
      "metadata": {
        "id": "SGZ1Q_7rD3Nz"
      },
      "outputs": [],
      "source": [
        "#Load lại giá trị mới \n",
        "photo = np.load('/content/drive/MyDrive/AI/Flowers_photo.npy')\n",
        "label = np.load('/content/drive/MyDrive/AI/Flowers_label.npy')"
      ]
    },
    {
      "cell_type": "code",
      "execution_count": null,
      "metadata": {
        "colab": {
          "base_uri": "https://localhost:8080/"
        },
        "id": "-EoyVFbCD5VZ",
        "outputId": "620ce694-3e24-448a-ea1c-f952da239ec8"
      },
      "outputs": [
        {
          "data": {
            "text/plain": [
              "(300, 200, 200, 3)"
            ]
          },
          "execution_count": 23,
          "metadata": {},
          "output_type": "execute_result"
        }
      ],
      "source": [
        "#Hiển thị kích thước ảnh\n",
        "photo.shape"
      ]
    },
    {
      "cell_type": "code",
      "execution_count": null,
      "metadata": {
        "colab": {
          "base_uri": "https://localhost:8080/"
        },
        "id": "luNYLBx5D6vO",
        "outputId": "01bc5214-1a22-43d4-fd92-7369b66cc249"
      },
      "outputs": [
        {
          "data": {
            "text/plain": [
              "(300,)"
            ]
          },
          "execution_count": 24,
          "metadata": {},
          "output_type": "execute_result"
        }
      ],
      "source": [
        "#Hiển thị kích thước ảnh\n",
        "label.shape"
      ]
    },
    {
      "cell_type": "code",
      "execution_count": null,
      "metadata": {
        "id": "l_jmu9OuD73A"
      },
      "outputs": [],
      "source": [
        "#Reshape giá trị đưa về mảng\n",
        "photo = photo.reshape(300,200,200,3)\n",
        "photo = photo.astype('float32')/255"
      ]
    },
    {
      "cell_type": "code",
      "execution_count": null,
      "metadata": {
        "id": "wy7PzWmgD89Z"
      },
      "outputs": [],
      "source": [
        "#Phân lớp cho giá trị\n",
        "label = to_categorical(label,6)"
      ]
    },
    {
      "cell_type": "code",
      "execution_count": null,
      "metadata": {
        "id": "8S7qhb3FEBOr"
      },
      "outputs": [],
      "source": [
        "#Khai báo biến giá trị kích thước, số lần học và số lớp\n",
        "batch_size = 128\n",
        "epochs = 60\n",
        "classes = 6"
      ]
    },
    {
      "cell_type": "code",
      "execution_count": null,
      "metadata": {
        "colab": {
          "base_uri": "https://localhost:8080/"
        },
        "id": "1jdLZ6x5ECak",
        "outputId": "38929bf1-b0f3-4843-b192-7eff316c1d2e"
      },
      "outputs": [
        {
          "name": "stdout",
          "output_type": "stream",
          "text": [
            "Model: \"sequential_2\"\n",
            "_________________________________________________________________\n",
            " Layer (type)                Output Shape              Param #   \n",
            "=================================================================\n",
            " conv2d_6 (Conv2D)           (None, 200, 200, 32)      896       \n",
            "                                                                 \n",
            " leaky_re_lu_8 (LeakyReLU)   (None, 200, 200, 32)      0         \n",
            "                                                                 \n",
            " max_pooling2d_6 (MaxPooling  (None, 100, 100, 32)     0         \n",
            " 2D)                                                             \n",
            "                                                                 \n",
            " conv2d_7 (Conv2D)           (None, 100, 100, 64)      18496     \n",
            "                                                                 \n",
            " leaky_re_lu_9 (LeakyReLU)   (None, 100, 100, 64)      0         \n",
            "                                                                 \n",
            " max_pooling2d_7 (MaxPooling  (None, 50, 50, 64)       0         \n",
            " 2D)                                                             \n",
            "                                                                 \n",
            " conv2d_8 (Conv2D)           (None, 50, 50, 128)       73856     \n",
            "                                                                 \n",
            " leaky_re_lu_10 (LeakyReLU)  (None, 50, 50, 128)       0         \n",
            "                                                                 \n",
            " max_pooling2d_8 (MaxPooling  (None, 25, 25, 128)      0         \n",
            " 2D)                                                             \n",
            "                                                                 \n",
            " flatten_2 (Flatten)         (None, 80000)             0         \n",
            "                                                                 \n",
            " dense_4 (Dense)             (None, 128)               10240128  \n",
            "                                                                 \n",
            " leaky_re_lu_11 (LeakyReLU)  (None, 128)               0         \n",
            "                                                                 \n",
            " dense_5 (Dense)             (None, 6)                 774       \n",
            "                                                                 \n",
            "=================================================================\n",
            "Total params: 10,334,150\n",
            "Trainable params: 10,334,150\n",
            "Non-trainable params: 0\n",
            "_________________________________________________________________\n"
          ]
        }
      ],
      "source": [
        "#Tạo các lớp cho model\n",
        "model = Sequential()\n",
        "model.add(Conv2D(32, kernel_size= (3,3), activation= 'linear', input_shape= (200,200,3), padding= 'same'))\n",
        "from keras.layers import LeakyReLU\n",
        "model.add(LeakyReLU(alpha= 0.1))\n",
        "model.add(MaxPooling2D((2,2), padding= 'same'))\n",
        "\n",
        "model.add(Conv2D(64,(3,3), activation= 'linear', padding= 'same'))\n",
        "model.add(LeakyReLU(alpha= 0.1))\n",
        "model.add(MaxPooling2D((2,2), padding= 'same'))\n",
        "\n",
        "model.add(Conv2D(128,(3,3), activation= 'linear', padding= 'same'))\n",
        "model.add(LeakyReLU(alpha= 0.1))\n",
        "model.add(MaxPooling2D((2,2), padding= 'same'))\n",
        "\n",
        "model.add(Flatten())\n",
        "model.add(Dense(128, activation= 'linear'))\n",
        "model.add(LeakyReLU(alpha= 0.1))\n",
        "model.add(Dense(classes, activation= 'softmax'))\n",
        "model.summary()"
      ]
    },
    {
      "cell_type": "code",
      "execution_count": null,
      "metadata": {
        "colab": {
          "background_save": true,
          "base_uri": "https://localhost:8080/"
        },
        "id": "syycrfqVEECT",
        "outputId": "c30a76b6-2e27-4d2f-9db7-8328fafcec36"
      },
      "outputs": [
        {
          "name": "stdout",
          "output_type": "stream",
          "text": [
            "Epoch 1/60\n",
            "3/3 [==============================] - 43s 13s/step - loss: 2.6179 - accuracy: 0.2300\n",
            "Epoch 2/60\n",
            "3/3 [==============================] - 36s 10s/step - loss: 2.7944 - accuracy: 0.2967\n",
            "Epoch 3/60\n",
            "3/3 [==============================] - 34s 10s/step - loss: 1.4661 - accuracy: 0.4133\n",
            "Epoch 4/60\n",
            "3/3 [==============================] - 35s 10s/step - loss: 1.5674 - accuracy: 0.4800\n",
            "Epoch 5/60\n",
            "3/3 [==============================] - 34s 10s/step - loss: 1.2253 - accuracy: 0.4733\n",
            "Epoch 6/60\n",
            "3/3 [==============================] - 36s 11s/step - loss: 0.9685 - accuracy: 0.6400\n",
            "Epoch 7/60\n",
            "3/3 [==============================] - 34s 10s/step - loss: 0.8712 - accuracy: 0.6867\n",
            "Epoch 8/60\n",
            "3/3 [==============================] - 35s 10s/step - loss: 0.7644 - accuracy: 0.7800\n",
            "Epoch 9/60\n",
            "3/3 [==============================] - 36s 10s/step - loss: 0.6982 - accuracy: 0.7500\n",
            "Epoch 10/60\n",
            "3/3 [==============================] - 38s 11s/step - loss: 0.6074 - accuracy: 0.7867\n",
            "Epoch 11/60\n",
            "3/3 [==============================] - 36s 11s/step - loss: 0.4970 - accuracy: 0.8233\n",
            "Epoch 12/60\n",
            "3/3 [==============================] - 35s 10s/step - loss: 0.4329 - accuracy: 0.8533\n",
            "Epoch 13/60\n",
            "3/3 [==============================] - 35s 10s/step - loss: 0.3534 - accuracy: 0.9033\n",
            "Epoch 14/60\n",
            "3/3 [==============================] - 37s 11s/step - loss: 0.3100 - accuracy: 0.9000\n",
            "Epoch 15/60\n",
            "3/3 [==============================] - 36s 11s/step - loss: 0.2243 - accuracy: 0.9467\n",
            "Epoch 16/60\n",
            "3/3 [==============================] - 36s 10s/step - loss: 0.1810 - accuracy: 0.9467\n",
            "Epoch 17/60\n",
            "3/3 [==============================] - 36s 10s/step - loss: 0.1424 - accuracy: 0.9767\n",
            "Epoch 18/60\n",
            "3/3 [==============================] - 37s 11s/step - loss: 0.1029 - accuracy: 0.9733\n",
            "Epoch 19/60\n",
            "3/3 [==============================] - 35s 10s/step - loss: 0.0849 - accuracy: 0.9900\n",
            "Epoch 20/60\n",
            "3/3 [==============================] - 35s 10s/step - loss: 0.0617 - accuracy: 0.9900\n",
            "Epoch 21/60\n",
            "3/3 [==============================] - 35s 10s/step - loss: 0.0361 - accuracy: 0.9967\n",
            "Epoch 22/60\n",
            "3/3 [==============================] - 35s 10s/step - loss: 0.0303 - accuracy: 1.0000\n",
            "Epoch 23/60\n",
            "3/3 [==============================] - 37s 11s/step - loss: 0.0191 - accuracy: 1.0000\n",
            "Epoch 24/60\n",
            "3/3 [==============================] - 35s 10s/step - loss: 0.0164 - accuracy: 1.0000\n",
            "Epoch 25/60\n",
            "3/3 [==============================] - 36s 10s/step - loss: 0.0118 - accuracy: 1.0000\n",
            "Epoch 26/60\n",
            "3/3 [==============================] - 34s 10s/step - loss: 0.0096 - accuracy: 1.0000\n",
            "Epoch 27/60\n",
            "3/3 [==============================] - 36s 11s/step - loss: 0.0089 - accuracy: 1.0000\n",
            "Epoch 28/60\n",
            "3/3 [==============================] - 34s 10s/step - loss: 0.0062 - accuracy: 1.0000\n",
            "Epoch 29/60\n",
            "3/3 [==============================] - 34s 10s/step - loss: 0.0043 - accuracy: 1.0000\n",
            "Epoch 30/60\n",
            "3/3 [==============================] - 35s 10s/step - loss: 0.0038 - accuracy: 1.0000\n",
            "Epoch 31/60\n",
            "3/3 [==============================] - 35s 10s/step - loss: 0.0032 - accuracy: 1.0000\n",
            "Epoch 32/60\n",
            "3/3 [==============================] - 36s 11s/step - loss: 0.0024 - accuracy: 1.0000\n",
            "Epoch 33/60\n",
            "3/3 [==============================] - 36s 11s/step - loss: 0.0019 - accuracy: 1.0000\n",
            "Epoch 34/60\n",
            "2/3 [===================>..........] - ETA: 14s - loss: 0.0017 - accuracy: 1.0000"
          ]
        }
      ],
      "source": [
        "#Model học các hình ảnh đã load\n",
        "model.compile(optimizer= Adam(), loss= categorical_crossentropy, metrics= ['accuracy'])\n",
        "train = model.fit(photo, label, epochs= epochs, batch_size= batch_size, verbose= 1)"
      ]
    },
    {
      "cell_type": "code",
      "execution_count": null,
      "metadata": {
        "id": "et-2Bd-_EFiM"
      },
      "outputs": [],
      "source": [
        "model.save('/content/drive/MyDrive/AI/Flowers_cnn.h5')"
      ]
    }
  ],
  "metadata": {
    "colab": {
      "provenance": [],
      "mount_file_id": "1foZLtKGGZ50PTCNRcbCWJOov2jDbbqjf",
      "authorship_tag": "ABX9TyPxrfHHXAI5R4vcdhXZuxG/",
      "include_colab_link": true
    },
    "kernelspec": {
      "display_name": "Python 3",
      "name": "python3"
    },
    "language_info": {
      "name": "python"
    }
  },
  "nbformat": 4,
  "nbformat_minor": 0
}