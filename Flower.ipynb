{
  "cells": [
    {
      "cell_type": "markdown",
      "metadata": {
        "id": "view-in-github",
        "colab_type": "text"
      },
      "source": [
        "<a href=\"https://colab.research.google.com/github/NguyenHuynhNgoc20146187/AI/blob/main/Flower.ipynb\" target=\"_parent\"><img src=\"https://colab.research.google.com/assets/colab-badge.svg\" alt=\"Open In Colab\"/></a>"
      ]
    },
    {
      "cell_type": "code",
      "execution_count": 25,
      "metadata": {
        "id": "3BFiWqQhDuJO"
      },
      "outputs": [],
      "source": [
        "#KHAI BÁO THƯ VIỆN\n",
        "#Khai báo thư viện để lọc ảnh\n",
        "from os import listdir\n",
        "from numpy import asarray\n",
        "from numpy import save\n",
        "from keras.utils.image_utils import img_to_array\n",
        "from keras.utils import load_img\n",
        "\n",
        "#Khai báo thư viện tính ma trận cho ảnh và vẽ đồ thị ảnh                                                                                                                                                                                                                                                                                                 \n",
        "import numpy as np\n",
        "import pandas as pd\n",
        "import matplotlib.pyplot as plt\n",
        "import seaborn as sns\n",
        "\n",
        "#Khai báo thư viện đường link của model\n",
        "from keras.utils import to_categorical\n",
        "\n",
        "\n",
        "#Khai báo các biến thể hiện giá trị kích thước, số lần học và số lớp\n",
        "from keras.models import Sequential\n",
        "from keras.models import Sequential, Model\n",
        "from keras.layers import Dense, Flatten, Dropout, Conv2D, MaxPooling2D, Normalization\n",
        "from keras.optimizers import Adam\n",
        "from keras.layers import LeakyReLU\n",
        "\n",
        "#Khai báo thư viện học cho Model\n",
        "from keras.losses import categorical_crossentropy"
      ]
    },
    {
      "cell_type": "code",
      "execution_count": 26,
      "metadata": {
        "id": "ss2HcIJWDy9q"
      },
      "outputs": [],
      "source": [
        "#Học ảnh cho VietNam's Food\n",
        "folder = '/content/drive/MyDrive/AI/Flower/'\n",
        "photos, labels = list(), list()\n",
        "for file in listdir(folder):\n",
        "  output = 0.0\n",
        "  if file.startswith('hoamo'):\n",
        "    output = 1.0  \n",
        "  if file.startswith('hoahong'):\n",
        "    output = 2.0  \n",
        "  if file.startswith('hoasen'):\n",
        "    output = 3.0 \n",
        "  if file.startswith('hoasung'):\n",
        "    output = 4.0  \n",
        "  if file.startswith('hoacuc'):\n",
        "    output = 5.0  \n",
        "\n",
        "  photo = load_img (folder+file, target_size= (200,200))\n",
        "  photo = img_to_array (photo)\n",
        "  photos.append(photo)\n",
        "  labels.append(output)\n",
        "photos = asarray(photos)\n",
        "labels = asarray(labels)\n",
        "save('/content/drive/MyDrive/AI/Flowers_photo.npy', photos)\n",
        "save('/content/drive/MyDrive/AI/Flowers_label.npy', labels)"
      ]
    },
    {
      "cell_type": "code",
      "source": [
        "from google.colab import drive\n",
        "drive.mount('/content/drive')"
      ],
      "metadata": {
        "colab": {
          "base_uri": "https://localhost:8080/"
        },
        "id": "2MN0gN05h7kl",
        "outputId": "97e615d6-57e5-4b57-e155-343d4ed6caf7"
      },
      "execution_count": 27,
      "outputs": [
        {
          "output_type": "stream",
          "name": "stdout",
          "text": [
            "Drive already mounted at /content/drive; to attempt to forcibly remount, call drive.mount(\"/content/drive\", force_remount=True).\n"
          ]
        }
      ]
    },
    {
      "cell_type": "code",
      "execution_count": 28,
      "metadata": {
        "id": "SGZ1Q_7rD3Nz"
      },
      "outputs": [],
      "source": [
        "#Load lại giá trị mới \n",
        "photo = np.load('/content/drive/MyDrive/AI/Flowers_photo.npy')\n",
        "label = np.load('/content/drive/MyDrive/AI/Flowers_label.npy')"
      ]
    },
    {
      "cell_type": "code",
      "execution_count": 29,
      "metadata": {
        "colab": {
          "base_uri": "https://localhost:8080/"
        },
        "id": "-EoyVFbCD5VZ",
        "outputId": "4919f72e-58e8-4bf3-87d1-6f9452ca7543"
      },
      "outputs": [
        {
          "output_type": "execute_result",
          "data": {
            "text/plain": [
              "(300, 200, 200, 3)"
            ]
          },
          "metadata": {},
          "execution_count": 29
        }
      ],
      "source": [
        "#Hiển thị kích thước ảnh\n",
        "photo.shape"
      ]
    },
    {
      "cell_type": "code",
      "execution_count": 30,
      "metadata": {
        "colab": {
          "base_uri": "https://localhost:8080/"
        },
        "id": "luNYLBx5D6vO",
        "outputId": "cd636d30-e0e7-4ac4-a4a5-11d2634b7256"
      },
      "outputs": [
        {
          "output_type": "execute_result",
          "data": {
            "text/plain": [
              "(300,)"
            ]
          },
          "metadata": {},
          "execution_count": 30
        }
      ],
      "source": [
        "#Hiển thị kích thước ảnh\n",
        "label.shape"
      ]
    },
    {
      "cell_type": "code",
      "execution_count": 31,
      "metadata": {
        "id": "l_jmu9OuD73A"
      },
      "outputs": [],
      "source": [
        "#Reshape giá trị đưa về mảng\n",
        "photo = photo.reshape(300,200,200,3)\n",
        "photo = photo.astype('float32')/255"
      ]
    },
    {
      "cell_type": "code",
      "execution_count": 32,
      "metadata": {
        "id": "wy7PzWmgD89Z"
      },
      "outputs": [],
      "source": [
        "#Phân lớp cho giá trị\n",
        "label = to_categorical(label,6)"
      ]
    },
    {
      "cell_type": "code",
      "execution_count": 33,
      "metadata": {
        "id": "8S7qhb3FEBOr"
      },
      "outputs": [],
      "source": [
        "#Khai báo biến giá trị kích thước, số lần học và số lớp\n",
        "batch_size = 128\n",
        "epochs = 50\n",
        "classes = 6"
      ]
    },
    {
      "cell_type": "code",
      "execution_count": 34,
      "metadata": {
        "colab": {
          "base_uri": "https://localhost:8080/"
        },
        "id": "1jdLZ6x5ECak",
        "outputId": "7cdedf2d-c04b-43a4-83a7-3a2e6d52f347"
      },
      "outputs": [
        {
          "output_type": "stream",
          "name": "stdout",
          "text": [
            "Model: \"sequential_2\"\n",
            "_________________________________________________________________\n",
            " Layer (type)                Output Shape              Param #   \n",
            "=================================================================\n",
            " conv2d_6 (Conv2D)           (None, 200, 200, 32)      896       \n",
            "                                                                 \n",
            " leaky_re_lu_8 (LeakyReLU)   (None, 200, 200, 32)      0         \n",
            "                                                                 \n",
            " max_pooling2d_6 (MaxPooling  (None, 100, 100, 32)     0         \n",
            " 2D)                                                             \n",
            "                                                                 \n",
            " conv2d_7 (Conv2D)           (None, 100, 100, 64)      18496     \n",
            "                                                                 \n",
            " leaky_re_lu_9 (LeakyReLU)   (None, 100, 100, 64)      0         \n",
            "                                                                 \n",
            " max_pooling2d_7 (MaxPooling  (None, 50, 50, 64)       0         \n",
            " 2D)                                                             \n",
            "                                                                 \n",
            " conv2d_8 (Conv2D)           (None, 50, 50, 128)       73856     \n",
            "                                                                 \n",
            " leaky_re_lu_10 (LeakyReLU)  (None, 50, 50, 128)       0         \n",
            "                                                                 \n",
            " max_pooling2d_8 (MaxPooling  (None, 25, 25, 128)      0         \n",
            " 2D)                                                             \n",
            "                                                                 \n",
            " flatten_2 (Flatten)         (None, 80000)             0         \n",
            "                                                                 \n",
            " dense_4 (Dense)             (None, 128)               10240128  \n",
            "                                                                 \n",
            " leaky_re_lu_11 (LeakyReLU)  (None, 128)               0         \n",
            "                                                                 \n",
            " dense_5 (Dense)             (None, 6)                 774       \n",
            "                                                                 \n",
            "=================================================================\n",
            "Total params: 10,334,150\n",
            "Trainable params: 10,334,150\n",
            "Non-trainable params: 0\n",
            "_________________________________________________________________\n"
          ]
        }
      ],
      "source": [
        "#Tạo các lớp cho model\n",
        "model = Sequential()\n",
        "model.add(Conv2D(32, kernel_size= (3,3), activation= 'linear', input_shape= (200,200,3), padding= 'same'))\n",
        "from keras.layers import LeakyReLU\n",
        "model.add(LeakyReLU(alpha= 0.1))\n",
        "model.add(MaxPooling2D((2,2), padding= 'same'))\n",
        "\n",
        "model.add(Conv2D(64,(3,3), activation= 'linear', padding= 'same'))\n",
        "model.add(LeakyReLU(alpha= 0.1))\n",
        "model.add(MaxPooling2D((2,2), padding= 'same'))\n",
        "\n",
        "model.add(Conv2D(128,(3,3), activation= 'linear', padding= 'same'))\n",
        "model.add(LeakyReLU(alpha= 0.1))\n",
        "model.add(MaxPooling2D((2,2), padding= 'same'))\n",
        "\n",
        "model.add(Flatten())\n",
        "model.add(Dense(128, activation= 'linear'))\n",
        "model.add(LeakyReLU(alpha= 0.1))\n",
        "model.add(Dense(classes, activation= 'softmax'))\n",
        "model.summary()"
      ]
    },
    {
      "cell_type": "code",
      "execution_count": 35,
      "metadata": {
        "colab": {
          "base_uri": "https://localhost:8080/"
        },
        "id": "syycrfqVEECT",
        "outputId": "c0e03f3c-059a-4e6a-d4db-bfa09611e65d"
      },
      "outputs": [
        {
          "output_type": "stream",
          "name": "stdout",
          "text": [
            "Epoch 1/50\n",
            "3/3 [==============================] - 1s 130ms/step - loss: 5.9290 - accuracy: 0.1900\n",
            "Epoch 2/50\n",
            "3/3 [==============================] - 0s 127ms/step - loss: 2.8843 - accuracy: 0.2800\n",
            "Epoch 3/50\n",
            "3/3 [==============================] - 0s 129ms/step - loss: 1.6086 - accuracy: 0.3100\n",
            "Epoch 4/50\n",
            "3/3 [==============================] - 0s 125ms/step - loss: 1.4370 - accuracy: 0.4567\n",
            "Epoch 5/50\n",
            "3/3 [==============================] - 0s 132ms/step - loss: 1.2538 - accuracy: 0.5267\n",
            "Epoch 6/50\n",
            "3/3 [==============================] - 0s 142ms/step - loss: 1.0620 - accuracy: 0.6467\n",
            "Epoch 7/50\n",
            "3/3 [==============================] - 0s 151ms/step - loss: 0.9640 - accuracy: 0.6667\n",
            "Epoch 8/50\n",
            "3/3 [==============================] - 0s 135ms/step - loss: 0.8482 - accuracy: 0.7067\n",
            "Epoch 9/50\n",
            "3/3 [==============================] - 0s 137ms/step - loss: 0.8638 - accuracy: 0.6767\n",
            "Epoch 10/50\n",
            "3/3 [==============================] - 0s 140ms/step - loss: 0.7530 - accuracy: 0.7500\n",
            "Epoch 11/50\n",
            "3/3 [==============================] - 0s 138ms/step - loss: 0.6602 - accuracy: 0.7867\n",
            "Epoch 12/50\n",
            "3/3 [==============================] - 1s 152ms/step - loss: 0.5692 - accuracy: 0.8100\n",
            "Epoch 13/50\n",
            "3/3 [==============================] - 0s 133ms/step - loss: 0.4878 - accuracy: 0.8467\n",
            "Epoch 14/50\n",
            "3/3 [==============================] - 0s 135ms/step - loss: 0.4318 - accuracy: 0.8467\n",
            "Epoch 15/50\n",
            "3/3 [==============================] - 0s 139ms/step - loss: 0.3427 - accuracy: 0.9067\n",
            "Epoch 16/50\n",
            "3/3 [==============================] - 0s 128ms/step - loss: 0.3102 - accuracy: 0.8967\n",
            "Epoch 17/50\n",
            "3/3 [==============================] - 0s 127ms/step - loss: 0.2214 - accuracy: 0.9600\n",
            "Epoch 18/50\n",
            "3/3 [==============================] - 0s 129ms/step - loss: 0.1711 - accuracy: 0.9700\n",
            "Epoch 19/50\n",
            "3/3 [==============================] - 0s 128ms/step - loss: 0.1493 - accuracy: 0.9567\n",
            "Epoch 20/50\n",
            "3/3 [==============================] - 0s 128ms/step - loss: 0.1517 - accuracy: 0.9400\n",
            "Epoch 21/50\n",
            "3/3 [==============================] - 0s 134ms/step - loss: 0.1094 - accuracy: 0.9800\n",
            "Epoch 22/50\n",
            "3/3 [==============================] - 0s 128ms/step - loss: 0.0510 - accuracy: 0.9933\n",
            "Epoch 23/50\n",
            "3/3 [==============================] - 0s 128ms/step - loss: 0.0588 - accuracy: 0.9933\n",
            "Epoch 24/50\n",
            "3/3 [==============================] - 0s 129ms/step - loss: 0.0273 - accuracy: 1.0000\n",
            "Epoch 25/50\n",
            "3/3 [==============================] - 0s 129ms/step - loss: 0.0269 - accuracy: 1.0000\n",
            "Epoch 26/50\n",
            "3/3 [==============================] - 0s 131ms/step - loss: 0.0118 - accuracy: 1.0000\n",
            "Epoch 27/50\n",
            "3/3 [==============================] - 0s 129ms/step - loss: 0.0135 - accuracy: 1.0000\n",
            "Epoch 28/50\n",
            "3/3 [==============================] - 0s 129ms/step - loss: 0.0078 - accuracy: 1.0000\n",
            "Epoch 29/50\n",
            "3/3 [==============================] - 0s 129ms/step - loss: 0.0050 - accuracy: 1.0000\n",
            "Epoch 30/50\n",
            "3/3 [==============================] - 0s 129ms/step - loss: 0.0048 - accuracy: 1.0000\n",
            "Epoch 31/50\n",
            "3/3 [==============================] - 0s 129ms/step - loss: 0.0040 - accuracy: 1.0000\n",
            "Epoch 32/50\n",
            "3/3 [==============================] - 0s 129ms/step - loss: 0.0025 - accuracy: 1.0000\n",
            "Epoch 33/50\n",
            "3/3 [==============================] - 0s 128ms/step - loss: 0.0021 - accuracy: 1.0000\n",
            "Epoch 34/50\n",
            "3/3 [==============================] - 0s 128ms/step - loss: 0.0017 - accuracy: 1.0000\n",
            "Epoch 35/50\n",
            "3/3 [==============================] - 0s 135ms/step - loss: 0.0015 - accuracy: 1.0000\n",
            "Epoch 36/50\n",
            "3/3 [==============================] - 0s 146ms/step - loss: 0.0014 - accuracy: 1.0000\n",
            "Epoch 37/50\n",
            "3/3 [==============================] - 0s 147ms/step - loss: 0.0011 - accuracy: 1.0000\n",
            "Epoch 38/50\n",
            "3/3 [==============================] - 0s 145ms/step - loss: 8.5615e-04 - accuracy: 1.0000\n",
            "Epoch 39/50\n",
            "3/3 [==============================] - 0s 144ms/step - loss: 8.1633e-04 - accuracy: 1.0000\n",
            "Epoch 40/50\n",
            "3/3 [==============================] - 0s 142ms/step - loss: 8.0462e-04 - accuracy: 1.0000\n",
            "Epoch 41/50\n",
            "3/3 [==============================] - 0s 135ms/step - loss: 7.5477e-04 - accuracy: 1.0000\n",
            "Epoch 42/50\n",
            "3/3 [==============================] - 0s 135ms/step - loss: 6.9085e-04 - accuracy: 1.0000\n",
            "Epoch 43/50\n",
            "3/3 [==============================] - 0s 136ms/step - loss: 6.3774e-04 - accuracy: 1.0000\n",
            "Epoch 44/50\n",
            "3/3 [==============================] - 0s 129ms/step - loss: 5.9238e-04 - accuracy: 1.0000\n",
            "Epoch 45/50\n",
            "3/3 [==============================] - 0s 130ms/step - loss: 5.5558e-04 - accuracy: 1.0000\n",
            "Epoch 46/50\n",
            "3/3 [==============================] - 0s 128ms/step - loss: 5.2812e-04 - accuracy: 1.0000\n",
            "Epoch 47/50\n",
            "3/3 [==============================] - 0s 134ms/step - loss: 5.0808e-04 - accuracy: 1.0000\n",
            "Epoch 48/50\n",
            "3/3 [==============================] - 0s 128ms/step - loss: 4.9290e-04 - accuracy: 1.0000\n",
            "Epoch 49/50\n",
            "3/3 [==============================] - 0s 127ms/step - loss: 4.7642e-04 - accuracy: 1.0000\n",
            "Epoch 50/50\n",
            "3/3 [==============================] - 0s 125ms/step - loss: 4.5993e-04 - accuracy: 1.0000\n"
          ]
        }
      ],
      "source": [
        "#Model học các hình ảnh đã load\n",
        "model.compile(optimizer= Adam(), loss= categorical_crossentropy, metrics= ['accuracy'])\n",
        "train = model.fit(photo, label, epochs= epochs, batch_size= batch_size, verbose= 1)"
      ]
    },
    {
      "cell_type": "code",
      "execution_count": 36,
      "metadata": {
        "id": "et-2Bd-_EFiM"
      },
      "outputs": [],
      "source": [
        "model.save('/content/drive/MyDrive/AI/Flowers_cnn.h5')"
      ]
    }
  ],
  "metadata": {
    "colab": {
      "provenance": [],
      "mount_file_id": "1foZLtKGGZ50PTCNRcbCWJOov2jDbbqjf",
      "authorship_tag": "ABX9TyPSwuTSTRdAtrsBn62+pIxR",
      "include_colab_link": true
    },
    "kernelspec": {
      "display_name": "Python 3",
      "name": "python3"
    },
    "language_info": {
      "name": "python"
    },
    "accelerator": "GPU",
    "gpuClass": "standard"
  },
  "nbformat": 4,
  "nbformat_minor": 0
}