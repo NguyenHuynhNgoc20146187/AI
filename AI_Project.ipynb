{
  "cells": [
    {
      "cell_type": "markdown",
      "metadata": {
        "id": "view-in-github",
        "colab_type": "text"
      },
      "source": [
        "<a href=\"https://colab.research.google.com/github/NguyenHuynhNgoc20146187/AI/blob/main/AI_Project.ipynb\" target=\"_parent\"><img src=\"https://colab.research.google.com/assets/colab-badge.svg\" alt=\"Open In Colab\"/></a>"
      ]
    },
    {
      "cell_type": "code",
      "execution_count": null,
      "metadata": {
        "id": "h78OdfeVJf82"
      },
      "outputs": [],
      "source": [
        "#KHAI BÁO THƯ VIỆN\n",
        "#Khai báo thư viện để lọc ảnh\n",
        "from os import listdir\n",
        "from numpy import asarray\n",
        "from numpy import save\n",
        "from keras.utils.image_utils import img_to_array\n",
        "from keras.utils import load_img\n",
        "\n",
        "#Khai báo thư viện tính ma trận cho ảnh và vẽ đồ thị ảnh                                                                                                                                                                                                                                                                                                 \n",
        "import numpy as np\n",
        "import pandas as pd\n",
        "import matplotlib.pyplot as plt\n",
        "import seaborn as sns\n",
        "\n",
        "#Khai báo thư viện đường link của model\n",
        "from keras.utils import to_categorical\n",
        "\n",
        "#Khai báo các biến thể hiện giá trị kích thước, số lần học và số lớp\n",
        "from keras.models import Sequential\n",
        "from keras.models import Sequential, Model\n",
        "from keras.layers import Dense, Flatten, Dropout, Conv2D, MaxPooling2D, Normalization\n",
        "from keras.optimizers import Adam\n",
        "from keras.layers import LeakyReLU\n",
        "\n",
        "#Khai báo thư viện học cho Model\n",
        "from keras.losses import categorical_crossentropy"
      ]
    },
    {
      "cell_type": "code",
      "execution_count": null,
      "metadata": {
        "colab": {
          "base_uri": "https://localhost:8080/"
        },
        "id": "yLhAhrbD9GX6",
        "outputId": "40c88982-5ea6-42b1-ca32-e7a15e850426"
      },
      "outputs": [
        {
          "output_type": "stream",
          "name": "stdout",
          "text": [
            "Drive already mounted at /content/drive; to attempt to forcibly remount, call drive.mount(\"/content/drive\", force_remount=True).\n"
          ]
        }
      ],
      "source": [
        "from google.colab import drive\n",
        "drive.mount('/content/drive')"
      ]
    },
    {
      "cell_type": "code",
      "execution_count": null,
      "metadata": {
        "id": "SdJ13R8uKDYl"
      },
      "outputs": [],
      "source": [
        "folder = '/content/drive/MyDrive/Project cuối kì AI/Train_Image/'\n",
        "photos, labels = list(), list()\n",
        "for file in listdir(folder):\n",
        "  output = 0.0\n",
        "  if file.startswith('Cachua'):\n",
        "    output = 1.0  #'Cà chua'\n",
        "  if file.startswith('Notcachua'):\n",
        "    output = 2.0  #'Không phải cà chua'\n",
        "  photo = load_img (folder+file, target_size= (200,200))\n",
        "  photo = img_to_array (photo)\n",
        "  photos.append(photo)\n",
        "  labels.append(output)\n",
        "photos = asarray(photos)\n",
        "labels = asarray(labels)\n",
        "save('/content/drive/MyDrive/Project cuối kì AI/Cachua_photo.npy', photos)\n",
        "save('/content/drive/MyDrive/Project cuối kì AI/Cachua_label.npy', labels)"
      ]
    },
    {
      "cell_type": "code",
      "execution_count": null,
      "metadata": {
        "id": "i_J3LKSGLAg7"
      },
      "outputs": [],
      "source": [
        "#Load lại giá trị mới \n",
        "photo = np.load('/content/drive/MyDrive/Project cuối kì AI/Cachua_photo.npy')\n",
        "label = np.load('/content/drive/MyDrive/Project cuối kì AI/Cachua_label.npy')\n",
        "     "
      ]
    },
    {
      "cell_type": "code",
      "execution_count": null,
      "metadata": {
        "id": "8uahxlR3Ne5W"
      },
      "outputs": [],
      "source": [
        "split_index = int(0.2*len(photo))\n",
        "test_X,test_Y = photo[:split_index],label[:split_index]\n",
        "train_X, train_Y = photo[split_index:],label[split_index:]"
      ]
    },
    {
      "cell_type": "code",
      "execution_count": null,
      "metadata": {
        "id": "jELPcWnqLHoU",
        "colab": {
          "base_uri": "https://localhost:8080/"
        },
        "outputId": "1547ed11-bbcf-435b-cab4-3838eb7b4419"
      },
      "outputs": [
        {
          "output_type": "stream",
          "name": "stdout",
          "text": [
            "Train: (1148, 200, 200, 3)\n",
            "Test: (287, 200, 200, 3)\n"
          ]
        }
      ],
      "source": [
        "print('Train:',train_X.shape)\n",
        "print('Test:',test_X.shape)"
      ]
    },
    {
      "cell_type": "code",
      "execution_count": null,
      "metadata": {
        "id": "U0whEWVhLKHA"
      },
      "outputs": [],
      "source": [
        "train_X = train_X.reshape((1148,200,200,3))\n",
        "train_X = train_X.astype('float32')/255\n",
        "test_X = test_X.reshape((287,200,200,3))\n",
        "test_X = test_X.astype('float32')/255"
      ]
    },
    {
      "cell_type": "code",
      "execution_count": null,
      "metadata": {
        "id": "SxoOBd6NLMFK"
      },
      "outputs": [],
      "source": [
        "train_Y = to_categorical(train_Y,3)\n",
        "test_Y = to_categorical(test_Y,3)"
      ]
    },
    {
      "cell_type": "code",
      "execution_count": null,
      "metadata": {
        "id": "xH37w1L3LQef"
      },
      "outputs": [],
      "source": [
        "#Khai báo biến giá trị kích thước, số lần học và số lớp\n",
        "batch_size = 128\n",
        "epochs = 100\n",
        "classes = 3"
      ]
    },
    {
      "cell_type": "code",
      "execution_count": null,
      "metadata": {
        "id": "n9zh-UMkLR4M",
        "colab": {
          "base_uri": "https://localhost:8080/"
        },
        "outputId": "2ca4e8e1-4aad-4bbc-d90e-59c5c9797c5b"
      },
      "outputs": [
        {
          "output_type": "stream",
          "name": "stdout",
          "text": [
            "Model: \"sequential_1\"\n",
            "_________________________________________________________________\n",
            " Layer (type)                Output Shape              Param #   \n",
            "=================================================================\n",
            " conv2d_3 (Conv2D)           (None, 200, 200, 32)      896       \n",
            "                                                                 \n",
            " leaky_re_lu_4 (LeakyReLU)   (None, 200, 200, 32)      0         \n",
            "                                                                 \n",
            " max_pooling2d_3 (MaxPooling  (None, 100, 100, 32)     0         \n",
            " 2D)                                                             \n",
            "                                                                 \n",
            " conv2d_4 (Conv2D)           (None, 100, 100, 64)      18496     \n",
            "                                                                 \n",
            " leaky_re_lu_5 (LeakyReLU)   (None, 100, 100, 64)      0         \n",
            "                                                                 \n",
            " max_pooling2d_4 (MaxPooling  (None, 50, 50, 64)       0         \n",
            " 2D)                                                             \n",
            "                                                                 \n",
            " conv2d_5 (Conv2D)           (None, 50, 50, 128)       73856     \n",
            "                                                                 \n",
            " leaky_re_lu_6 (LeakyReLU)   (None, 50, 50, 128)       0         \n",
            "                                                                 \n",
            " max_pooling2d_5 (MaxPooling  (None, 25, 25, 128)      0         \n",
            " 2D)                                                             \n",
            "                                                                 \n",
            " flatten_1 (Flatten)         (None, 80000)             0         \n",
            "                                                                 \n",
            " dense_2 (Dense)             (None, 128)               10240128  \n",
            "                                                                 \n",
            " leaky_re_lu_7 (LeakyReLU)   (None, 128)               0         \n",
            "                                                                 \n",
            " dense_3 (Dense)             (None, 3)                 387       \n",
            "                                                                 \n",
            "=================================================================\n",
            "Total params: 10,333,763\n",
            "Trainable params: 10,333,763\n",
            "Non-trainable params: 0\n",
            "_________________________________________________________________\n"
          ]
        }
      ],
      "source": [
        "#Tạo các lớp cho model\n",
        "model = Sequential()\n",
        "model.add(Conv2D(32, kernel_size= (3,3), activation= 'linear', input_shape= (200,200,3), padding= 'same'))\n",
        "from keras.layers import LeakyReLU\n",
        "model.add(LeakyReLU(alpha= 0.1))\n",
        "model.add(MaxPooling2D((2,2), padding= 'same'))\n",
        "\n",
        "model.add(Conv2D(64,(3,3), activation= 'linear', padding= 'same'))\n",
        "model.add(LeakyReLU(alpha= 0.1))\n",
        "model.add(MaxPooling2D((2,2), padding= 'same'))\n",
        "\n",
        "model.add(Conv2D(128,(3,3), activation= 'linear', padding= 'same'))\n",
        "model.add(LeakyReLU(alpha= 0.1))\n",
        "model.add(MaxPooling2D((2,2), padding= 'same'))\n",
        "\n",
        "model.add(Flatten())\n",
        "model.add(Dense(128, activation= 'linear'))\n",
        "model.add(LeakyReLU(alpha= 0.1))\n",
        "model.add(Dense(classes, activation= 'softmax'))\n",
        "model.summary()"
      ]
    },
    {
      "cell_type": "code",
      "execution_count": null,
      "metadata": {
        "id": "y_8IWQx4Lao-",
        "colab": {
          "base_uri": "https://localhost:8080/"
        },
        "outputId": "35ae339a-1b1e-43a1-b117-4143df2eb91a"
      },
      "outputs": [
        {
          "output_type": "stream",
          "name": "stdout",
          "text": [
            "Epoch 1/100\n",
            "9/9 [==============================] - 4s 187ms/step - loss: 2.5839 - accuracy: 0.7657\n",
            "Epoch 2/100\n",
            "9/9 [==============================] - 2s 186ms/step - loss: 0.9448 - accuracy: 0.9808\n",
            "Epoch 3/100\n",
            "9/9 [==============================] - 2s 190ms/step - loss: 0.1982 - accuracy: 0.9399\n",
            "Epoch 4/100\n",
            "9/9 [==============================] - 2s 184ms/step - loss: 0.1953 - accuracy: 0.9808\n",
            "Epoch 5/100\n",
            "9/9 [==============================] - 2s 185ms/step - loss: 0.0486 - accuracy: 0.9887\n",
            "Epoch 6/100\n",
            "9/9 [==============================] - 2s 212ms/step - loss: 0.0182 - accuracy: 0.9965\n",
            "Epoch 7/100\n",
            "9/9 [==============================] - 2s 205ms/step - loss: 0.0163 - accuracy: 0.9956\n",
            "Epoch 8/100\n",
            "9/9 [==============================] - 2s 186ms/step - loss: 0.0065 - accuracy: 0.9991\n",
            "Epoch 9/100\n",
            "9/9 [==============================] - 2s 186ms/step - loss: 0.0051 - accuracy: 0.9983\n",
            "Epoch 10/100\n",
            "9/9 [==============================] - 2s 186ms/step - loss: 0.0034 - accuracy: 0.9991\n",
            "Epoch 11/100\n",
            "9/9 [==============================] - 2s 182ms/step - loss: 0.0028 - accuracy: 0.9991\n",
            "Epoch 12/100\n",
            "9/9 [==============================] - 2s 184ms/step - loss: 0.0018 - accuracy: 1.0000\n",
            "Epoch 13/100\n",
            "9/9 [==============================] - 2s 186ms/step - loss: 0.0014 - accuracy: 1.0000\n",
            "Epoch 14/100\n",
            "9/9 [==============================] - 2s 203ms/step - loss: 0.0010 - accuracy: 1.0000\n",
            "Epoch 15/100\n",
            "9/9 [==============================] - 2s 206ms/step - loss: 8.8009e-04 - accuracy: 1.0000\n",
            "Epoch 16/100\n",
            "9/9 [==============================] - 2s 186ms/step - loss: 7.2453e-04 - accuracy: 1.0000\n",
            "Epoch 17/100\n",
            "9/9 [==============================] - 2s 188ms/step - loss: 6.4762e-04 - accuracy: 1.0000\n",
            "Epoch 18/100\n",
            "9/9 [==============================] - 2s 185ms/step - loss: 5.2832e-04 - accuracy: 1.0000\n",
            "Epoch 19/100\n",
            "9/9 [==============================] - 2s 185ms/step - loss: 4.3635e-04 - accuracy: 1.0000\n",
            "Epoch 20/100\n",
            "9/9 [==============================] - 2s 186ms/step - loss: 3.7377e-04 - accuracy: 1.0000\n",
            "Epoch 21/100\n",
            "9/9 [==============================] - 2s 188ms/step - loss: 3.3387e-04 - accuracy: 1.0000\n",
            "Epoch 22/100\n",
            "9/9 [==============================] - 2s 202ms/step - loss: 2.8375e-04 - accuracy: 1.0000\n",
            "Epoch 23/100\n",
            "9/9 [==============================] - 2s 198ms/step - loss: 2.5387e-04 - accuracy: 1.0000\n",
            "Epoch 24/100\n",
            "9/9 [==============================] - 2s 186ms/step - loss: 2.2762e-04 - accuracy: 1.0000\n",
            "Epoch 25/100\n",
            "9/9 [==============================] - 2s 184ms/step - loss: 2.0141e-04 - accuracy: 1.0000\n",
            "Epoch 26/100\n",
            "9/9 [==============================] - 2s 184ms/step - loss: 1.7905e-04 - accuracy: 1.0000\n",
            "Epoch 27/100\n",
            "9/9 [==============================] - 2s 185ms/step - loss: 1.5905e-04 - accuracy: 1.0000\n",
            "Epoch 28/100\n",
            "9/9 [==============================] - 2s 184ms/step - loss: 1.4469e-04 - accuracy: 1.0000\n",
            "Epoch 29/100\n",
            "9/9 [==============================] - 2s 191ms/step - loss: 1.3042e-04 - accuracy: 1.0000\n",
            "Epoch 30/100\n",
            "9/9 [==============================] - 2s 197ms/step - loss: 1.1905e-04 - accuracy: 1.0000\n",
            "Epoch 31/100\n",
            "9/9 [==============================] - 2s 195ms/step - loss: 1.0705e-04 - accuracy: 1.0000\n",
            "Epoch 32/100\n",
            "9/9 [==============================] - 2s 183ms/step - loss: 9.7628e-05 - accuracy: 1.0000\n",
            "Epoch 33/100\n",
            "9/9 [==============================] - 2s 183ms/step - loss: 8.9398e-05 - accuracy: 1.0000\n",
            "Epoch 34/100\n",
            "9/9 [==============================] - 2s 183ms/step - loss: 8.2976e-05 - accuracy: 1.0000\n",
            "Epoch 35/100\n",
            "9/9 [==============================] - 2s 182ms/step - loss: 7.5940e-05 - accuracy: 1.0000\n",
            "Epoch 36/100\n",
            "9/9 [==============================] - 2s 182ms/step - loss: 7.0374e-05 - accuracy: 1.0000\n",
            "Epoch 37/100\n",
            "9/9 [==============================] - 2s 186ms/step - loss: 6.6089e-05 - accuracy: 1.0000\n",
            "Epoch 38/100\n",
            "9/9 [==============================] - 2s 204ms/step - loss: 6.1473e-05 - accuracy: 1.0000\n",
            "Epoch 39/100\n",
            "9/9 [==============================] - 2s 193ms/step - loss: 5.7584e-05 - accuracy: 1.0000\n",
            "Epoch 40/100\n",
            "9/9 [==============================] - 2s 185ms/step - loss: 5.4186e-05 - accuracy: 1.0000\n",
            "Epoch 41/100\n",
            "9/9 [==============================] - 2s 181ms/step - loss: 5.1420e-05 - accuracy: 1.0000\n",
            "Epoch 42/100\n",
            "9/9 [==============================] - 2s 182ms/step - loss: 4.7996e-05 - accuracy: 1.0000\n",
            "Epoch 43/100\n",
            "9/9 [==============================] - 2s 183ms/step - loss: 4.5208e-05 - accuracy: 1.0000\n",
            "Epoch 44/100\n",
            "9/9 [==============================] - 2s 182ms/step - loss: 4.3126e-05 - accuracy: 1.0000\n",
            "Epoch 45/100\n",
            "9/9 [==============================] - 2s 186ms/step - loss: 4.1057e-05 - accuracy: 1.0000\n",
            "Epoch 46/100\n",
            "9/9 [==============================] - 2s 203ms/step - loss: 3.8915e-05 - accuracy: 1.0000\n",
            "Epoch 47/100\n",
            "9/9 [==============================] - 2s 192ms/step - loss: 3.6837e-05 - accuracy: 1.0000\n",
            "Epoch 48/100\n",
            "9/9 [==============================] - 2s 182ms/step - loss: 3.5552e-05 - accuracy: 1.0000\n",
            "Epoch 49/100\n",
            "9/9 [==============================] - 2s 182ms/step - loss: 3.3700e-05 - accuracy: 1.0000\n",
            "Epoch 50/100\n",
            "9/9 [==============================] - 2s 182ms/step - loss: 3.2137e-05 - accuracy: 1.0000\n",
            "Epoch 51/100\n",
            "9/9 [==============================] - 2s 183ms/step - loss: 3.0695e-05 - accuracy: 1.0000\n",
            "Epoch 52/100\n",
            "9/9 [==============================] - 2s 184ms/step - loss: 2.9476e-05 - accuracy: 1.0000\n",
            "Epoch 53/100\n",
            "9/9 [==============================] - 2s 187ms/step - loss: 2.8505e-05 - accuracy: 1.0000\n",
            "Epoch 54/100\n",
            "9/9 [==============================] - 2s 193ms/step - loss: 2.7356e-05 - accuracy: 1.0000\n",
            "Epoch 55/100\n",
            "9/9 [==============================] - 2s 193ms/step - loss: 2.6441e-05 - accuracy: 1.0000\n",
            "Epoch 56/100\n",
            "9/9 [==============================] - 2s 184ms/step - loss: 2.5401e-05 - accuracy: 1.0000\n",
            "Epoch 57/100\n",
            "9/9 [==============================] - 2s 182ms/step - loss: 2.4536e-05 - accuracy: 1.0000\n",
            "Epoch 58/100\n",
            "9/9 [==============================] - 2s 185ms/step - loss: 2.3761e-05 - accuracy: 1.0000\n",
            "Epoch 59/100\n",
            "9/9 [==============================] - 2s 184ms/step - loss: 2.2791e-05 - accuracy: 1.0000\n",
            "Epoch 60/100\n",
            "9/9 [==============================] - 2s 185ms/step - loss: 2.2275e-05 - accuracy: 1.0000\n",
            "Epoch 61/100\n",
            "9/9 [==============================] - 2s 187ms/step - loss: 2.1309e-05 - accuracy: 1.0000\n",
            "Epoch 62/100\n",
            "9/9 [==============================] - 2s 205ms/step - loss: 2.0631e-05 - accuracy: 1.0000\n",
            "Epoch 63/100\n",
            "9/9 [==============================] - 2s 192ms/step - loss: 2.0114e-05 - accuracy: 1.0000\n",
            "Epoch 64/100\n",
            "9/9 [==============================] - 2s 184ms/step - loss: 1.9334e-05 - accuracy: 1.0000\n",
            "Epoch 65/100\n",
            "9/9 [==============================] - 2s 183ms/step - loss: 1.8852e-05 - accuracy: 1.0000\n",
            "Epoch 66/100\n",
            "9/9 [==============================] - 2s 185ms/step - loss: 1.8160e-05 - accuracy: 1.0000\n",
            "Epoch 67/100\n",
            "9/9 [==============================] - 2s 185ms/step - loss: 1.7673e-05 - accuracy: 1.0000\n",
            "Epoch 68/100\n",
            "9/9 [==============================] - 2s 184ms/step - loss: 1.7163e-05 - accuracy: 1.0000\n",
            "Epoch 69/100\n",
            "9/9 [==============================] - 2s 190ms/step - loss: 1.6459e-05 - accuracy: 1.0000\n",
            "Epoch 70/100\n",
            "9/9 [==============================] - 2s 201ms/step - loss: 1.6040e-05 - accuracy: 1.0000\n",
            "Epoch 71/100\n",
            "9/9 [==============================] - 2s 187ms/step - loss: 1.5612e-05 - accuracy: 1.0000\n",
            "Epoch 72/100\n",
            "9/9 [==============================] - 2s 183ms/step - loss: 1.5103e-05 - accuracy: 1.0000\n",
            "Epoch 73/100\n",
            "9/9 [==============================] - 2s 183ms/step - loss: 1.4657e-05 - accuracy: 1.0000\n",
            "Epoch 74/100\n",
            "9/9 [==============================] - 2s 184ms/step - loss: 1.4269e-05 - accuracy: 1.0000\n",
            "Epoch 75/100\n",
            "9/9 [==============================] - 2s 183ms/step - loss: 1.4126e-05 - accuracy: 1.0000\n",
            "Epoch 76/100\n",
            "9/9 [==============================] - 2s 184ms/step - loss: 1.3501e-05 - accuracy: 1.0000\n",
            "Epoch 77/100\n",
            "9/9 [==============================] - 2s 194ms/step - loss: 1.3244e-05 - accuracy: 1.0000\n",
            "Epoch 78/100\n",
            "9/9 [==============================] - 2s 199ms/step - loss: 1.2806e-05 - accuracy: 1.0000\n",
            "Epoch 79/100\n",
            "9/9 [==============================] - 2s 191ms/step - loss: 1.2497e-05 - accuracy: 1.0000\n",
            "Epoch 80/100\n",
            "9/9 [==============================] - 2s 183ms/step - loss: 1.2166e-05 - accuracy: 1.0000\n",
            "Epoch 81/100\n",
            "9/9 [==============================] - 2s 185ms/step - loss: 1.1908e-05 - accuracy: 1.0000\n",
            "Epoch 82/100\n",
            "9/9 [==============================] - 2s 183ms/step - loss: 1.1576e-05 - accuracy: 1.0000\n",
            "Epoch 83/100\n",
            "9/9 [==============================] - 2s 184ms/step - loss: 1.1341e-05 - accuracy: 1.0000\n",
            "Epoch 84/100\n",
            "9/9 [==============================] - 2s 182ms/step - loss: 1.1089e-05 - accuracy: 1.0000\n",
            "Epoch 85/100\n",
            "9/9 [==============================] - 2s 195ms/step - loss: 1.0739e-05 - accuracy: 1.0000\n",
            "Epoch 86/100\n",
            "9/9 [==============================] - 2s 199ms/step - loss: 1.0548e-05 - accuracy: 1.0000\n",
            "Epoch 87/100\n",
            "9/9 [==============================] - 2s 190ms/step - loss: 1.0280e-05 - accuracy: 1.0000\n",
            "Epoch 88/100\n",
            "9/9 [==============================] - 2s 182ms/step - loss: 1.0035e-05 - accuracy: 1.0000\n",
            "Epoch 89/100\n",
            "9/9 [==============================] - 2s 184ms/step - loss: 9.7943e-06 - accuracy: 1.0000\n",
            "Epoch 90/100\n",
            "9/9 [==============================] - 2s 184ms/step - loss: 9.5949e-06 - accuracy: 1.0000\n",
            "Epoch 91/100\n",
            "9/9 [==============================] - 2s 182ms/step - loss: 9.3760e-06 - accuracy: 1.0000\n",
            "Epoch 92/100\n",
            "9/9 [==============================] - 2s 184ms/step - loss: 9.1791e-06 - accuracy: 1.0000\n",
            "Epoch 93/100\n",
            "9/9 [==============================] - 2s 192ms/step - loss: 9.0231e-06 - accuracy: 1.0000\n",
            "Epoch 94/100\n",
            "9/9 [==============================] - 2s 200ms/step - loss: 8.7815e-06 - accuracy: 1.0000\n",
            "Epoch 95/100\n",
            "9/9 [==============================] - 2s 190ms/step - loss: 8.6179e-06 - accuracy: 1.0000\n",
            "Epoch 96/100\n",
            "9/9 [==============================] - 2s 184ms/step - loss: 8.4273e-06 - accuracy: 1.0000\n",
            "Epoch 97/100\n",
            "9/9 [==============================] - 2s 182ms/step - loss: 8.2438e-06 - accuracy: 1.0000\n",
            "Epoch 98/100\n",
            "9/9 [==============================] - 2s 182ms/step - loss: 8.0893e-06 - accuracy: 1.0000\n",
            "Epoch 99/100\n",
            "9/9 [==============================] - 2s 183ms/step - loss: 7.9315e-06 - accuracy: 1.0000\n",
            "Epoch 100/100\n",
            "9/9 [==============================] - 2s 182ms/step - loss: 7.7531e-06 - accuracy: 1.0000\n"
          ]
        }
      ],
      "source": [
        "#Model học các hình ảnh đã load\n",
        "model.compile(optimizer= 'adam', loss= 'categorical_crossentropy', metrics= ['accuracy'])\n",
        "train = model.fit(train_X, train_Y, epochs= epochs, batch_size= batch_size, verbose= 1)"
      ]
    },
    {
      "cell_type": "code",
      "source": [
        "eval = model.evaluate(test_X,test_Y,verbose=0)\n",
        "print('Test loss:', eval[0])\n",
        "print('Test accuracy:',eval[1])\n",
        "accuracy = train.history['accuracy']\n",
        "val_accuracy = train.history['loss']\n",
        "epochs = range(len(accuracy))\n"
      ],
      "metadata": {
        "colab": {
          "base_uri": "https://localhost:8080/"
        },
        "id": "x1ah5zQYc0dq",
        "outputId": "48d6bdfd-2df2-406e-84a9-643dc4a6afcb"
      },
      "execution_count": null,
      "outputs": [
        {
          "output_type": "stream",
          "name": "stdout",
          "text": [
            "Test loss: 2.4875098461052403e-06\n",
            "Test accuracy: 1.0\n"
          ]
        }
      ]
    },
    {
      "cell_type": "code",
      "execution_count": null,
      "metadata": {
        "id": "5IT52HVOLbB2"
      },
      "outputs": [],
      "source": [
        "model.save('/content/drive/MyDrive/Project cuối kì AI/Cachua_cnn.h5')"
      ]
    }
  ],
  "metadata": {
    "accelerator": "GPU",
    "colab": {
      "provenance": [],
      "mount_file_id": "1Ico7f79Pej45TWOJ9Hjtyy7Uxx8FGB28",
      "authorship_tag": "ABX9TyM2lepbagOivcSCRLiWvhV6",
      "include_colab_link": true
    },
    "gpuClass": "standard",
    "kernelspec": {
      "display_name": "Python 3",
      "name": "python3"
    },
    "language_info": {
      "name": "python"
    }
  },
  "nbformat": 4,
  "nbformat_minor": 0
}